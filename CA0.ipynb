{
 "cells": [
  {
   "cell_type": "markdown",
   "id": "78d58d63",
   "metadata": {},
   "source": [
    "# Computer Assignment #0\n",
    "In this project, we wish to fill out the missing CO2 emissions from a dataset containing the data for different car models and get started with some of the most useful libraries when dealing with data processing namely pandas, numpy and matplotlib as well as Jupyter Notebook along the way. \n",
    "We were given a file containing the data for different car models and were expected to estimate the CO2 emissions for each car model. Each record in this dataset has the following information: year of manufacture, make, model, vehicle class, engine size, number of cylinders, transmission type, fuel type, feul consumption within city, feul consumption in highways, feul consumption combined, feul consumption combined (miles per gallon) and Carbon Dioxide emissions. However, some of the records are missing their CO2 emission which is our target data. In order to fill out the missing data in the target column we should use the available data in other column of said records; By scanning the dataset and finding the property that is most likely to determine the CO2 emissions, we can find a simple linear regression model for the target value to help estimate the actual amount.\n",
    "We are going to use the following libraries and modules to retrieve and analyze the given data: pandas, numpy, matplotlib.pyplot\n",
    "##### Pandas\n",
    "Pandas is a software library built on top of the Python programming language for data manipulation and analysis.In particular, it offers data structures and operations for manipulating numerical tables and time series.\n",
    "##### NumPy\n",
    "NumPy is a library for the Python programming language, adding support for large, multi-dimensional arrays and matrices, along with a large collection of high-level mathematical functions to operate on these arrays. In this assignment, we are going to take advantage of the NumPy vectorization, indexing, and broadcasting concepts and see how the performance improves.\n",
    "##### matplotlib.pyplot \n",
    "matplotlib.pyplot is a collection of command style functions that make matplotlib work like MATLAB. Each pyplot function makes some change to a figure. In matplotlib.pyplot various states are preserved across function calls, so that it keeps track of things like the current figure and plotting area, and the plotting functions are directed to the current axes.\n",
    "\n",
    "## Project Description\n",
    "We are equipped with the datasheet for 1000 users who were exposed to a particular ad. However some of the numbers in this datasheet is missing, including the boolean-typed data in \"Clicked on Ad\" column. First, we visualize the given data, using the pandas library, by calling the head, tail, and describe methods on our dataframe. Then we replace the missing data in each of the columns except the target column, with the average of that property. Now we normalize the data to further improve the data for machine learning, then we use the mean and std for each of the numerical properties of users and select an indicator that can determine and predict best whether a particular user has clicked on the ad or not and use this property as the predictor input."
   ]
  },
  {
   "cell_type": "code",
   "execution_count": 1,
   "id": "c7db41cc",
   "metadata": {},
   "outputs": [],
   "source": [
    "import pandas as pd\n",
    "import numpy as np\n",
    "import matplotlib.pyplot as plt\n",
    "import time\n",
    "\n",
    "pd.options.mode.chained_assignment = None"
   ]
  },
  {
   "cell_type": "markdown",
   "id": "520a7765",
   "metadata": {},
   "source": [
    "# 1\n",
    "In the following line of code we load the dataset provided in a csv file that contains the information of 1067 cars. We use the read_csv function that is exported from pandas library for this purpose. We store the returned data in a dataframe called \"dataframe\". In each row, the record of a car is presented with their data as following: MODELYEAR, MAKE, MODEL, VEHICLECLASS, ENGINESIZE, CYCLINDERS, TRANSMISSION, FUELTYPE, FUELCONSUMPTION_CITY, FUELCONSUMPTION_HWY, FUELCONSUMPTION_COMB, FUELCONSUMPTION_COMB_MPG and CO2EMISSIONS -aka the target data. However, some of the data is missing, marked as NaN by pandas library. We load this data in order to fill out the missing data in CO2 emission column."
   ]
  },
  {
   "cell_type": "code",
   "execution_count": 2,
   "id": "6510daa1",
   "metadata": {},
   "outputs": [],
   "source": [
    "dataframe = pd.read_csv(\"FuelConsumptionCo2.csv\");"
   ]
  },
  {
   "cell_type": "markdown",
   "id": "806e6d34",
   "metadata": {},
   "source": [
    "### head()\n",
    "This method is used to get the first n rows of dataframe the default value of which is five, and as can be seen below by not specifying the number of rows to select, it returns the first 5 rows of the dataframe."
   ]
  },
  {
   "cell_type": "code",
   "execution_count": 3,
   "id": "9ded0fc0",
   "metadata": {
    "scrolled": true
   },
   "outputs": [
    {
     "data": {
      "text/html": [
       "<div>\n",
       "<style scoped>\n",
       "    .dataframe tbody tr th:only-of-type {\n",
       "        vertical-align: middle;\n",
       "    }\n",
       "\n",
       "    .dataframe tbody tr th {\n",
       "        vertical-align: top;\n",
       "    }\n",
       "\n",
       "    .dataframe thead th {\n",
       "        text-align: right;\n",
       "    }\n",
       "</style>\n",
       "<table border=\"1\" class=\"dataframe\">\n",
       "  <thead>\n",
       "    <tr style=\"text-align: right;\">\n",
       "      <th></th>\n",
       "      <th>Unnamed: 0</th>\n",
       "      <th>MODELYEAR</th>\n",
       "      <th>MAKE</th>\n",
       "      <th>MODEL</th>\n",
       "      <th>VEHICLECLASS</th>\n",
       "      <th>ENGINESIZE</th>\n",
       "      <th>CYLINDERS</th>\n",
       "      <th>TRANSMISSION</th>\n",
       "      <th>FUELTYPE</th>\n",
       "      <th>FUELCONSUMPTION_CITY</th>\n",
       "      <th>FUELCONSUMPTION_HWY</th>\n",
       "      <th>FUELCONSUMPTION_COMB</th>\n",
       "      <th>FUELCONSUMPTION_COMB_MPG</th>\n",
       "      <th>CO2EMISSIONS</th>\n",
       "    </tr>\n",
       "  </thead>\n",
       "  <tbody>\n",
       "    <tr>\n",
       "      <th>0</th>\n",
       "      <td>0</td>\n",
       "      <td>2014</td>\n",
       "      <td>ACURA</td>\n",
       "      <td>ILX</td>\n",
       "      <td>COMPACT</td>\n",
       "      <td>2.0</td>\n",
       "      <td>4.0</td>\n",
       "      <td>AS5</td>\n",
       "      <td>Z</td>\n",
       "      <td>9.9</td>\n",
       "      <td>6.7</td>\n",
       "      <td>8.5</td>\n",
       "      <td>33</td>\n",
       "      <td>196.0</td>\n",
       "    </tr>\n",
       "    <tr>\n",
       "      <th>1</th>\n",
       "      <td>1</td>\n",
       "      <td>2014</td>\n",
       "      <td>ACURA</td>\n",
       "      <td>ILX</td>\n",
       "      <td>COMPACT</td>\n",
       "      <td>2.4</td>\n",
       "      <td>4.0</td>\n",
       "      <td>M6</td>\n",
       "      <td>Z</td>\n",
       "      <td>11.2</td>\n",
       "      <td>7.7</td>\n",
       "      <td>9.6</td>\n",
       "      <td>29</td>\n",
       "      <td>221.0</td>\n",
       "    </tr>\n",
       "    <tr>\n",
       "      <th>2</th>\n",
       "      <td>2</td>\n",
       "      <td>2014</td>\n",
       "      <td>ACURA</td>\n",
       "      <td>ILX HYBRID</td>\n",
       "      <td>COMPACT</td>\n",
       "      <td>1.5</td>\n",
       "      <td>4.0</td>\n",
       "      <td>AV7</td>\n",
       "      <td>Z</td>\n",
       "      <td>6.0</td>\n",
       "      <td>5.8</td>\n",
       "      <td>5.9</td>\n",
       "      <td>48</td>\n",
       "      <td>136.0</td>\n",
       "    </tr>\n",
       "    <tr>\n",
       "      <th>3</th>\n",
       "      <td>3</td>\n",
       "      <td>2014</td>\n",
       "      <td>ACURA</td>\n",
       "      <td>MDX 4WD</td>\n",
       "      <td>SUV - SMALL</td>\n",
       "      <td>3.5</td>\n",
       "      <td>6.0</td>\n",
       "      <td>AS6</td>\n",
       "      <td>Z</td>\n",
       "      <td>12.7</td>\n",
       "      <td>9.1</td>\n",
       "      <td>11.1</td>\n",
       "      <td>25</td>\n",
       "      <td>NaN</td>\n",
       "    </tr>\n",
       "    <tr>\n",
       "      <th>4</th>\n",
       "      <td>4</td>\n",
       "      <td>2014</td>\n",
       "      <td>ACURA</td>\n",
       "      <td>RDX AWD</td>\n",
       "      <td>SUV - SMALL</td>\n",
       "      <td>3.5</td>\n",
       "      <td>6.0</td>\n",
       "      <td>AS6</td>\n",
       "      <td>Z</td>\n",
       "      <td>12.1</td>\n",
       "      <td>8.7</td>\n",
       "      <td>10.6</td>\n",
       "      <td>27</td>\n",
       "      <td>244.0</td>\n",
       "    </tr>\n",
       "  </tbody>\n",
       "</table>\n",
       "</div>"
      ],
      "text/plain": [
       "   Unnamed: 0  MODELYEAR   MAKE       MODEL VEHICLECLASS  ENGINESIZE  \\\n",
       "0           0       2014  ACURA         ILX      COMPACT         2.0   \n",
       "1           1       2014  ACURA         ILX      COMPACT         2.4   \n",
       "2           2       2014  ACURA  ILX HYBRID      COMPACT         1.5   \n",
       "3           3       2014  ACURA     MDX 4WD  SUV - SMALL         3.5   \n",
       "4           4       2014  ACURA     RDX AWD  SUV - SMALL         3.5   \n",
       "\n",
       "   CYLINDERS TRANSMISSION FUELTYPE  FUELCONSUMPTION_CITY  FUELCONSUMPTION_HWY  \\\n",
       "0        4.0          AS5        Z                   9.9                  6.7   \n",
       "1        4.0           M6        Z                  11.2                  7.7   \n",
       "2        4.0          AV7        Z                   6.0                  5.8   \n",
       "3        6.0          AS6        Z                  12.7                  9.1   \n",
       "4        6.0          AS6        Z                  12.1                  8.7   \n",
       "\n",
       "   FUELCONSUMPTION_COMB  FUELCONSUMPTION_COMB_MPG  CO2EMISSIONS  \n",
       "0                   8.5                        33         196.0  \n",
       "1                   9.6                        29         221.0  \n",
       "2                   5.9                        48         136.0  \n",
       "3                  11.1                        25           NaN  \n",
       "4                  10.6                        27         244.0  "
      ]
     },
     "execution_count": 3,
     "metadata": {},
     "output_type": "execute_result"
    }
   ],
   "source": [
    "dataframe.head()"
   ]
  },
  {
   "cell_type": "markdown",
   "id": "a0f0f023",
   "metadata": {},
   "source": [
    "### tail()\n",
    "The tail() method, however, is used to get the last n rows of dataframe and the default value for this method is five like the head() method mentioned above. Below, we see the last 5 rows of the dataframe after calling the tail() method on said dataframe."
   ]
  },
  {
   "cell_type": "code",
   "execution_count": 4,
   "id": "4f901875",
   "metadata": {},
   "outputs": [
    {
     "data": {
      "text/html": [
       "<div>\n",
       "<style scoped>\n",
       "    .dataframe tbody tr th:only-of-type {\n",
       "        vertical-align: middle;\n",
       "    }\n",
       "\n",
       "    .dataframe tbody tr th {\n",
       "        vertical-align: top;\n",
       "    }\n",
       "\n",
       "    .dataframe thead th {\n",
       "        text-align: right;\n",
       "    }\n",
       "</style>\n",
       "<table border=\"1\" class=\"dataframe\">\n",
       "  <thead>\n",
       "    <tr style=\"text-align: right;\">\n",
       "      <th></th>\n",
       "      <th>Unnamed: 0</th>\n",
       "      <th>MODELYEAR</th>\n",
       "      <th>MAKE</th>\n",
       "      <th>MODEL</th>\n",
       "      <th>VEHICLECLASS</th>\n",
       "      <th>ENGINESIZE</th>\n",
       "      <th>CYLINDERS</th>\n",
       "      <th>TRANSMISSION</th>\n",
       "      <th>FUELTYPE</th>\n",
       "      <th>FUELCONSUMPTION_CITY</th>\n",
       "      <th>FUELCONSUMPTION_HWY</th>\n",
       "      <th>FUELCONSUMPTION_COMB</th>\n",
       "      <th>FUELCONSUMPTION_COMB_MPG</th>\n",
       "      <th>CO2EMISSIONS</th>\n",
       "    </tr>\n",
       "  </thead>\n",
       "  <tbody>\n",
       "    <tr>\n",
       "      <th>1062</th>\n",
       "      <td>1062</td>\n",
       "      <td>2014</td>\n",
       "      <td>VOLVO</td>\n",
       "      <td>XC60 AWD</td>\n",
       "      <td>SUV - SMALL</td>\n",
       "      <td>3.0</td>\n",
       "      <td>6.0</td>\n",
       "      <td>AS6</td>\n",
       "      <td>X</td>\n",
       "      <td>13.4</td>\n",
       "      <td>9.8</td>\n",
       "      <td>11.8</td>\n",
       "      <td>24</td>\n",
       "      <td>271.0</td>\n",
       "    </tr>\n",
       "    <tr>\n",
       "      <th>1063</th>\n",
       "      <td>1063</td>\n",
       "      <td>2014</td>\n",
       "      <td>VOLVO</td>\n",
       "      <td>XC60 AWD</td>\n",
       "      <td>SUV - SMALL</td>\n",
       "      <td>3.2</td>\n",
       "      <td>6.0</td>\n",
       "      <td>AS6</td>\n",
       "      <td>X</td>\n",
       "      <td>13.2</td>\n",
       "      <td>9.5</td>\n",
       "      <td>11.5</td>\n",
       "      <td>25</td>\n",
       "      <td>264.0</td>\n",
       "    </tr>\n",
       "    <tr>\n",
       "      <th>1064</th>\n",
       "      <td>1064</td>\n",
       "      <td>2014</td>\n",
       "      <td>VOLVO</td>\n",
       "      <td>XC70 AWD</td>\n",
       "      <td>SUV - SMALL</td>\n",
       "      <td>3.0</td>\n",
       "      <td>6.0</td>\n",
       "      <td>AS6</td>\n",
       "      <td>X</td>\n",
       "      <td>13.4</td>\n",
       "      <td>9.8</td>\n",
       "      <td>11.8</td>\n",
       "      <td>24</td>\n",
       "      <td>271.0</td>\n",
       "    </tr>\n",
       "    <tr>\n",
       "      <th>1065</th>\n",
       "      <td>1065</td>\n",
       "      <td>2014</td>\n",
       "      <td>VOLVO</td>\n",
       "      <td>XC70 AWD</td>\n",
       "      <td>SUV - SMALL</td>\n",
       "      <td>3.2</td>\n",
       "      <td>6.0</td>\n",
       "      <td>AS6</td>\n",
       "      <td>X</td>\n",
       "      <td>12.9</td>\n",
       "      <td>9.3</td>\n",
       "      <td>11.3</td>\n",
       "      <td>25</td>\n",
       "      <td>260.0</td>\n",
       "    </tr>\n",
       "    <tr>\n",
       "      <th>1066</th>\n",
       "      <td>1066</td>\n",
       "      <td>2014</td>\n",
       "      <td>VOLVO</td>\n",
       "      <td>XC90 AWD</td>\n",
       "      <td>SUV - STANDARD</td>\n",
       "      <td>3.2</td>\n",
       "      <td>6.0</td>\n",
       "      <td>AS6</td>\n",
       "      <td>X</td>\n",
       "      <td>14.9</td>\n",
       "      <td>10.2</td>\n",
       "      <td>12.8</td>\n",
       "      <td>22</td>\n",
       "      <td>294.0</td>\n",
       "    </tr>\n",
       "  </tbody>\n",
       "</table>\n",
       "</div>"
      ],
      "text/plain": [
       "      Unnamed: 0  MODELYEAR   MAKE     MODEL    VEHICLECLASS  ENGINESIZE  \\\n",
       "1062        1062       2014  VOLVO  XC60 AWD     SUV - SMALL         3.0   \n",
       "1063        1063       2014  VOLVO  XC60 AWD     SUV - SMALL         3.2   \n",
       "1064        1064       2014  VOLVO  XC70 AWD     SUV - SMALL         3.0   \n",
       "1065        1065       2014  VOLVO  XC70 AWD     SUV - SMALL         3.2   \n",
       "1066        1066       2014  VOLVO  XC90 AWD  SUV - STANDARD         3.2   \n",
       "\n",
       "      CYLINDERS TRANSMISSION FUELTYPE  FUELCONSUMPTION_CITY  \\\n",
       "1062        6.0          AS6        X                  13.4   \n",
       "1063        6.0          AS6        X                  13.2   \n",
       "1064        6.0          AS6        X                  13.4   \n",
       "1065        6.0          AS6        X                  12.9   \n",
       "1066        6.0          AS6        X                  14.9   \n",
       "\n",
       "      FUELCONSUMPTION_HWY  FUELCONSUMPTION_COMB  FUELCONSUMPTION_COMB_MPG  \\\n",
       "1062                  9.8                  11.8                        24   \n",
       "1063                  9.5                  11.5                        25   \n",
       "1064                  9.8                  11.8                        24   \n",
       "1065                  9.3                  11.3                        25   \n",
       "1066                 10.2                  12.8                        22   \n",
       "\n",
       "      CO2EMISSIONS  \n",
       "1062         271.0  \n",
       "1063         264.0  \n",
       "1064         271.0  \n",
       "1065         260.0  \n",
       "1066         294.0  "
      ]
     },
     "execution_count": 4,
     "metadata": {},
     "output_type": "execute_result"
    }
   ],
   "source": [
    "dataframe.tail()"
   ]
  },
  {
   "cell_type": "markdown",
   "id": "ebd230dd",
   "metadata": {},
   "source": [
    "### describe()\n",
    "The describe() method is used for calculating some statistical data like minimum and maximum value, percentile, mean and standard deviation of the numerical values in this case: MODELYEAR, ENGINESIZE, CYCLINDERS, FUELCONSUMPTION_CITY, FUELCONSUMPTION_HWY, FUELCONSUMPTION_COMB, FUELCONSUMPTION_COMB_MPG_ CO2EMISSIONS. Count represents the number of values in each column that are not null."
   ]
  },
  {
   "cell_type": "code",
   "execution_count": 5,
   "id": "6aaa2437",
   "metadata": {},
   "outputs": [
    {
     "data": {
      "text/html": [
       "<div>\n",
       "<style scoped>\n",
       "    .dataframe tbody tr th:only-of-type {\n",
       "        vertical-align: middle;\n",
       "    }\n",
       "\n",
       "    .dataframe tbody tr th {\n",
       "        vertical-align: top;\n",
       "    }\n",
       "\n",
       "    .dataframe thead th {\n",
       "        text-align: right;\n",
       "    }\n",
       "</style>\n",
       "<table border=\"1\" class=\"dataframe\">\n",
       "  <thead>\n",
       "    <tr style=\"text-align: right;\">\n",
       "      <th></th>\n",
       "      <th>Unnamed: 0</th>\n",
       "      <th>MODELYEAR</th>\n",
       "      <th>ENGINESIZE</th>\n",
       "      <th>CYLINDERS</th>\n",
       "      <th>FUELCONSUMPTION_CITY</th>\n",
       "      <th>FUELCONSUMPTION_HWY</th>\n",
       "      <th>FUELCONSUMPTION_COMB</th>\n",
       "      <th>FUELCONSUMPTION_COMB_MPG</th>\n",
       "      <th>CO2EMISSIONS</th>\n",
       "    </tr>\n",
       "  </thead>\n",
       "  <tbody>\n",
       "    <tr>\n",
       "      <th>count</th>\n",
       "      <td>1067.000000</td>\n",
       "      <td>1067.0</td>\n",
       "      <td>1040.000000</td>\n",
       "      <td>1033.000000</td>\n",
       "      <td>1067.000000</td>\n",
       "      <td>1067.000000</td>\n",
       "      <td>1067.000000</td>\n",
       "      <td>1067.000000</td>\n",
       "      <td>964.000000</td>\n",
       "    </tr>\n",
       "    <tr>\n",
       "      <th>mean</th>\n",
       "      <td>533.000000</td>\n",
       "      <td>2014.0</td>\n",
       "      <td>3.324038</td>\n",
       "      <td>5.797677</td>\n",
       "      <td>13.296532</td>\n",
       "      <td>9.474602</td>\n",
       "      <td>11.580881</td>\n",
       "      <td>26.441425</td>\n",
       "      <td>256.741701</td>\n",
       "    </tr>\n",
       "    <tr>\n",
       "      <th>std</th>\n",
       "      <td>308.160672</td>\n",
       "      <td>0.0</td>\n",
       "      <td>1.411400</td>\n",
       "      <td>1.807262</td>\n",
       "      <td>4.101253</td>\n",
       "      <td>2.794510</td>\n",
       "      <td>3.485595</td>\n",
       "      <td>7.468702</td>\n",
       "      <td>63.265308</td>\n",
       "    </tr>\n",
       "    <tr>\n",
       "      <th>min</th>\n",
       "      <td>0.000000</td>\n",
       "      <td>2014.0</td>\n",
       "      <td>1.000000</td>\n",
       "      <td>3.000000</td>\n",
       "      <td>4.600000</td>\n",
       "      <td>4.900000</td>\n",
       "      <td>4.700000</td>\n",
       "      <td>11.000000</td>\n",
       "      <td>108.000000</td>\n",
       "    </tr>\n",
       "    <tr>\n",
       "      <th>25%</th>\n",
       "      <td>266.500000</td>\n",
       "      <td>2014.0</td>\n",
       "      <td>2.000000</td>\n",
       "      <td>4.000000</td>\n",
       "      <td>10.250000</td>\n",
       "      <td>7.500000</td>\n",
       "      <td>9.000000</td>\n",
       "      <td>21.000000</td>\n",
       "      <td>209.000000</td>\n",
       "    </tr>\n",
       "    <tr>\n",
       "      <th>50%</th>\n",
       "      <td>533.000000</td>\n",
       "      <td>2014.0</td>\n",
       "      <td>3.300000</td>\n",
       "      <td>6.000000</td>\n",
       "      <td>12.600000</td>\n",
       "      <td>8.800000</td>\n",
       "      <td>10.900000</td>\n",
       "      <td>26.000000</td>\n",
       "      <td>251.000000</td>\n",
       "    </tr>\n",
       "    <tr>\n",
       "      <th>75%</th>\n",
       "      <td>799.500000</td>\n",
       "      <td>2014.0</td>\n",
       "      <td>4.200000</td>\n",
       "      <td>8.000000</td>\n",
       "      <td>15.550000</td>\n",
       "      <td>10.850000</td>\n",
       "      <td>13.350000</td>\n",
       "      <td>31.000000</td>\n",
       "      <td>294.000000</td>\n",
       "    </tr>\n",
       "    <tr>\n",
       "      <th>max</th>\n",
       "      <td>1066.000000</td>\n",
       "      <td>2014.0</td>\n",
       "      <td>8.400000</td>\n",
       "      <td>12.000000</td>\n",
       "      <td>30.200000</td>\n",
       "      <td>20.500000</td>\n",
       "      <td>25.800000</td>\n",
       "      <td>60.000000</td>\n",
       "      <td>437.000000</td>\n",
       "    </tr>\n",
       "  </tbody>\n",
       "</table>\n",
       "</div>"
      ],
      "text/plain": [
       "        Unnamed: 0  MODELYEAR   ENGINESIZE    CYLINDERS  FUELCONSUMPTION_CITY  \\\n",
       "count  1067.000000     1067.0  1040.000000  1033.000000           1067.000000   \n",
       "mean    533.000000     2014.0     3.324038     5.797677             13.296532   \n",
       "std     308.160672        0.0     1.411400     1.807262              4.101253   \n",
       "min       0.000000     2014.0     1.000000     3.000000              4.600000   \n",
       "25%     266.500000     2014.0     2.000000     4.000000             10.250000   \n",
       "50%     533.000000     2014.0     3.300000     6.000000             12.600000   \n",
       "75%     799.500000     2014.0     4.200000     8.000000             15.550000   \n",
       "max    1066.000000     2014.0     8.400000    12.000000             30.200000   \n",
       "\n",
       "       FUELCONSUMPTION_HWY  FUELCONSUMPTION_COMB  FUELCONSUMPTION_COMB_MPG  \\\n",
       "count          1067.000000           1067.000000               1067.000000   \n",
       "mean              9.474602             11.580881                 26.441425   \n",
       "std               2.794510              3.485595                  7.468702   \n",
       "min               4.900000              4.700000                 11.000000   \n",
       "25%               7.500000              9.000000                 21.000000   \n",
       "50%               8.800000             10.900000                 26.000000   \n",
       "75%              10.850000             13.350000                 31.000000   \n",
       "max              20.500000             25.800000                 60.000000   \n",
       "\n",
       "       CO2EMISSIONS  \n",
       "count    964.000000  \n",
       "mean     256.741701  \n",
       "std       63.265308  \n",
       "min      108.000000  \n",
       "25%      209.000000  \n",
       "50%      251.000000  \n",
       "75%      294.000000  \n",
       "max      437.000000  "
      ]
     },
     "execution_count": 5,
     "metadata": {},
     "output_type": "execute_result"
    }
   ],
   "source": [
    "dataframe.describe()"
   ]
  },
  {
   "cell_type": "markdown",
   "id": "435dbbbc",
   "metadata": {},
   "source": [
    "# 2\n",
    "### info()\n",
    "Using the info() method, we get the following information about each of the columns: index, title, number of Non-null occurances and data type. The index column also known as Unnamed, MODELYEAR and FUELCONSUMPTION_COMB_MPG is of type int. ENGINESIZE, CYLINDERS, FUELCONSUMPTION_CITY, FUELCONSUMPTION_HWY, FUELCONSUMPTION_COMB and CO2EMISSIONS are of type float. All these columns have numerical values however the following columns are categorial: MAKE, MODEL, VEHICLECLASS, TRANSMISSION and FUELTYPE are of type object. We can also see at the bottom of the result, the total number of categories of type float, int and object. The memory usage us also specified which in this case takes up about 116.8 KB on disk."
   ]
  },
  {
   "cell_type": "code",
   "execution_count": 6,
   "id": "b1e8ff18",
   "metadata": {},
   "outputs": [
    {
     "name": "stdout",
     "output_type": "stream",
     "text": [
      "<class 'pandas.core.frame.DataFrame'>\n",
      "RangeIndex: 1067 entries, 0 to 1066\n",
      "Data columns (total 14 columns):\n",
      " #   Column                    Non-Null Count  Dtype  \n",
      "---  ------                    --------------  -----  \n",
      " 0   Unnamed: 0                1067 non-null   int64  \n",
      " 1   MODELYEAR                 1067 non-null   int64  \n",
      " 2   MAKE                      1067 non-null   object \n",
      " 3   MODEL                     1058 non-null   object \n",
      " 4   VEHICLECLASS              1067 non-null   object \n",
      " 5   ENGINESIZE                1040 non-null   float64\n",
      " 6   CYLINDERS                 1033 non-null   float64\n",
      " 7   TRANSMISSION              1067 non-null   object \n",
      " 8   FUELTYPE                  996 non-null    object \n",
      " 9   FUELCONSUMPTION_CITY      1067 non-null   float64\n",
      " 10  FUELCONSUMPTION_HWY       1067 non-null   float64\n",
      " 11  FUELCONSUMPTION_COMB      1067 non-null   float64\n",
      " 12  FUELCONSUMPTION_COMB_MPG  1067 non-null   int64  \n",
      " 13  CO2EMISSIONS              964 non-null    float64\n",
      "dtypes: float64(6), int64(3), object(5)\n",
      "memory usage: 116.8+ KB\n"
     ]
    }
   ],
   "source": [
    "dataframe.info()"
   ]
  },
  {
   "cell_type": "markdown",
   "id": "f6c5f564",
   "metadata": {},
   "source": [
    "We use label encoding for processing the non-numerical (categorial) values; we represent each of the values that belongs to a certain column using a number. In order to encode categorial values, we use label encoding. In other words, we convert each value in a column to a number. For instance, in the \"FUELTYPE\" column, we use 0 to 3 to represent values X, E, D and Z respectively. <br>\n",
    "In order to do so, we define a dictionary to map each fuel type to its corresponding numerical value. Then we replace all the values in the FUELTYPE column of the dataframe with the mapped value. The replacement is done inplace meaning that the previous column is replaced in the original dataframe. <br>\n",
    "After this recent modification, i.e. label encoding of the FUELTYPE, the dataframe.head() is called and thus the first 5 rows are displayed. By comparing the new values with original fuel types we see that \"Z\" is converted to 3.0 just like our mapping suggests. "
   ]
  },
  {
   "cell_type": "code",
   "execution_count": 7,
   "id": "06f5bb30",
   "metadata": {},
   "outputs": [
    {
     "data": {
      "text/html": [
       "<div>\n",
       "<style scoped>\n",
       "    .dataframe tbody tr th:only-of-type {\n",
       "        vertical-align: middle;\n",
       "    }\n",
       "\n",
       "    .dataframe tbody tr th {\n",
       "        vertical-align: top;\n",
       "    }\n",
       "\n",
       "    .dataframe thead th {\n",
       "        text-align: right;\n",
       "    }\n",
       "</style>\n",
       "<table border=\"1\" class=\"dataframe\">\n",
       "  <thead>\n",
       "    <tr style=\"text-align: right;\">\n",
       "      <th></th>\n",
       "      <th>Unnamed: 0</th>\n",
       "      <th>MODELYEAR</th>\n",
       "      <th>MAKE</th>\n",
       "      <th>MODEL</th>\n",
       "      <th>VEHICLECLASS</th>\n",
       "      <th>ENGINESIZE</th>\n",
       "      <th>CYLINDERS</th>\n",
       "      <th>TRANSMISSION</th>\n",
       "      <th>FUELTYPE</th>\n",
       "      <th>FUELCONSUMPTION_CITY</th>\n",
       "      <th>FUELCONSUMPTION_HWY</th>\n",
       "      <th>FUELCONSUMPTION_COMB</th>\n",
       "      <th>FUELCONSUMPTION_COMB_MPG</th>\n",
       "      <th>CO2EMISSIONS</th>\n",
       "    </tr>\n",
       "  </thead>\n",
       "  <tbody>\n",
       "    <tr>\n",
       "      <th>0</th>\n",
       "      <td>0</td>\n",
       "      <td>2014</td>\n",
       "      <td>ACURA</td>\n",
       "      <td>ILX</td>\n",
       "      <td>COMPACT</td>\n",
       "      <td>2.0</td>\n",
       "      <td>4.0</td>\n",
       "      <td>AS5</td>\n",
       "      <td>3.0</td>\n",
       "      <td>9.9</td>\n",
       "      <td>6.7</td>\n",
       "      <td>8.5</td>\n",
       "      <td>33</td>\n",
       "      <td>196.0</td>\n",
       "    </tr>\n",
       "    <tr>\n",
       "      <th>1</th>\n",
       "      <td>1</td>\n",
       "      <td>2014</td>\n",
       "      <td>ACURA</td>\n",
       "      <td>ILX</td>\n",
       "      <td>COMPACT</td>\n",
       "      <td>2.4</td>\n",
       "      <td>4.0</td>\n",
       "      <td>M6</td>\n",
       "      <td>3.0</td>\n",
       "      <td>11.2</td>\n",
       "      <td>7.7</td>\n",
       "      <td>9.6</td>\n",
       "      <td>29</td>\n",
       "      <td>221.0</td>\n",
       "    </tr>\n",
       "    <tr>\n",
       "      <th>2</th>\n",
       "      <td>2</td>\n",
       "      <td>2014</td>\n",
       "      <td>ACURA</td>\n",
       "      <td>ILX HYBRID</td>\n",
       "      <td>COMPACT</td>\n",
       "      <td>1.5</td>\n",
       "      <td>4.0</td>\n",
       "      <td>AV7</td>\n",
       "      <td>3.0</td>\n",
       "      <td>6.0</td>\n",
       "      <td>5.8</td>\n",
       "      <td>5.9</td>\n",
       "      <td>48</td>\n",
       "      <td>136.0</td>\n",
       "    </tr>\n",
       "    <tr>\n",
       "      <th>3</th>\n",
       "      <td>3</td>\n",
       "      <td>2014</td>\n",
       "      <td>ACURA</td>\n",
       "      <td>MDX 4WD</td>\n",
       "      <td>SUV - SMALL</td>\n",
       "      <td>3.5</td>\n",
       "      <td>6.0</td>\n",
       "      <td>AS6</td>\n",
       "      <td>3.0</td>\n",
       "      <td>12.7</td>\n",
       "      <td>9.1</td>\n",
       "      <td>11.1</td>\n",
       "      <td>25</td>\n",
       "      <td>NaN</td>\n",
       "    </tr>\n",
       "    <tr>\n",
       "      <th>4</th>\n",
       "      <td>4</td>\n",
       "      <td>2014</td>\n",
       "      <td>ACURA</td>\n",
       "      <td>RDX AWD</td>\n",
       "      <td>SUV - SMALL</td>\n",
       "      <td>3.5</td>\n",
       "      <td>6.0</td>\n",
       "      <td>AS6</td>\n",
       "      <td>3.0</td>\n",
       "      <td>12.1</td>\n",
       "      <td>8.7</td>\n",
       "      <td>10.6</td>\n",
       "      <td>27</td>\n",
       "      <td>244.0</td>\n",
       "    </tr>\n",
       "  </tbody>\n",
       "</table>\n",
       "</div>"
      ],
      "text/plain": [
       "   Unnamed: 0  MODELYEAR   MAKE       MODEL VEHICLECLASS  ENGINESIZE  \\\n",
       "0           0       2014  ACURA         ILX      COMPACT         2.0   \n",
       "1           1       2014  ACURA         ILX      COMPACT         2.4   \n",
       "2           2       2014  ACURA  ILX HYBRID      COMPACT         1.5   \n",
       "3           3       2014  ACURA     MDX 4WD  SUV - SMALL         3.5   \n",
       "4           4       2014  ACURA     RDX AWD  SUV - SMALL         3.5   \n",
       "\n",
       "   CYLINDERS TRANSMISSION  FUELTYPE  FUELCONSUMPTION_CITY  \\\n",
       "0        4.0          AS5       3.0                   9.9   \n",
       "1        4.0           M6       3.0                  11.2   \n",
       "2        4.0          AV7       3.0                   6.0   \n",
       "3        6.0          AS6       3.0                  12.7   \n",
       "4        6.0          AS6       3.0                  12.1   \n",
       "\n",
       "   FUELCONSUMPTION_HWY  FUELCONSUMPTION_COMB  FUELCONSUMPTION_COMB_MPG  \\\n",
       "0                  6.7                   8.5                        33   \n",
       "1                  7.7                   9.6                        29   \n",
       "2                  5.8                   5.9                        48   \n",
       "3                  9.1                  11.1                        25   \n",
       "4                  8.7                  10.6                        27   \n",
       "\n",
       "   CO2EMISSIONS  \n",
       "0         196.0  \n",
       "1         221.0  \n",
       "2         136.0  \n",
       "3           NaN  \n",
       "4         244.0  "
      ]
     },
     "execution_count": 7,
     "metadata": {},
     "output_type": "execute_result"
    }
   ],
   "source": [
    "mapping = {\"X\": 0, \"E\": 1, \"D\": 2, \"Z\": 3}\n",
    "dataframe[\"FUELTYPE\"].replace(mapping, inplace = True)\n",
    "dataframe.head()"
   ]
  },
  {
   "cell_type": "markdown",
   "id": "e148954a",
   "metadata": {},
   "source": [
    "# 3\n",
    "The pandas library, presents the missing data in a cell using the NaN expression. So far, the describe() and info() method included the non-null count of each column as well as other parameters, however if we want to get the number of the null value in each of the column using vectorization we can do as following. <br>\n",
    "The target column has the most number of missing data. This column aside, we still have a number of null values in MODEL, ENGINESIZE, CYLINDERS and FUELTYPE which are all of numerical type and therefore we can use the mean of the bunch to fill in the missing cells. Whereas, if some data in categorial columns were missing another approach had to be taken such as using the mode which is the value that appears most often in a set of data values."
   ]
  },
  {
   "cell_type": "code",
   "execution_count": 8,
   "id": "5faf24fb",
   "metadata": {},
   "outputs": [
    {
     "data": {
      "text/plain": [
       "Unnamed: 0                    0\n",
       "MODELYEAR                     0\n",
       "MAKE                          0\n",
       "MODEL                         9\n",
       "VEHICLECLASS                  0\n",
       "ENGINESIZE                   27\n",
       "CYLINDERS                    34\n",
       "TRANSMISSION                  0\n",
       "FUELTYPE                     71\n",
       "FUELCONSUMPTION_CITY          0\n",
       "FUELCONSUMPTION_HWY           0\n",
       "FUELCONSUMPTION_COMB          0\n",
       "FUELCONSUMPTION_COMB_MPG      0\n",
       "CO2EMISSIONS                103\n",
       "dtype: int64"
      ]
     },
     "execution_count": 8,
     "metadata": {},
     "output_type": "execute_result"
    }
   ],
   "source": [
    "dataframe.isnull().sum()"
   ]
  },
  {
   "cell_type": "markdown",
   "id": "22033544",
   "metadata": {},
   "source": [
    "Now, we calculate the mean for each of the columns in the dataframe and store it in column_means. As for \"MODEL\" and \"FUELTYPE\", two categorial columns, that happens to have 9 and 71 rows with missing data respectively. In order to fill out these rows, we use the mode, the MODEL and encoded FUELTYPE with most frequency in this dataset. <br>\n",
    "Also keep in mind that we do not want to replace the missing data in the target column with some arbitrary value such as mean, so we copy the last column. Then we use the fillna() method to replace the missing data in each column with the mean which we previously stored in column_means, then we revert the modified target column with its original value. <br>\n",
    "Then we store the records with missing CO2 emission, in a separate dataframe called 'missing_df' by selecting the rows for which CO2EMISSION is null.\n",
    "### Mean imputation (substitution): pros and cons \n",
    "Pros: Imputing the mean preserves the mean of the observed data.  So if the data are missing completely at random, the estimate of the mean remains unbiased and by imputing the mean, you are able to keep your sample size up to the full sample size. <br>\n",
    "Cons: One of the downside of using mean to fill missing values, is that mean imputation has an impact on attributes variability. Replacing missing data by the mean of available data causes the population standard deviation to be underestimated -because they mostly reside somewhere between the middle, but may also obscure important features of the population from which the data were sampled. This leads to introducing a bias to our model. Another drawback is that mean imputation does not preserve the relationships among variables. Values that are imputed by a variable’s mean have, in general, a correlation of zero with other variables. Relationships between variables are therefore biased toward zero."
   ]
  },
  {
   "cell_type": "code",
   "execution_count": 11,
   "id": "9cc2f04f",
   "metadata": {
    "scrolled": true
   },
   "outputs": [
    {
     "data": {
      "text/html": [
       "<div>\n",
       "<style scoped>\n",
       "    .dataframe tbody tr th:only-of-type {\n",
       "        vertical-align: middle;\n",
       "    }\n",
       "\n",
       "    .dataframe tbody tr th {\n",
       "        vertical-align: top;\n",
       "    }\n",
       "\n",
       "    .dataframe thead th {\n",
       "        text-align: right;\n",
       "    }\n",
       "</style>\n",
       "<table border=\"1\" class=\"dataframe\">\n",
       "  <thead>\n",
       "    <tr style=\"text-align: right;\">\n",
       "      <th></th>\n",
       "      <th>Unnamed: 0</th>\n",
       "      <th>MODELYEAR</th>\n",
       "      <th>MAKE</th>\n",
       "      <th>MODEL</th>\n",
       "      <th>VEHICLECLASS</th>\n",
       "      <th>ENGINESIZE</th>\n",
       "      <th>CYLINDERS</th>\n",
       "      <th>TRANSMISSION</th>\n",
       "      <th>FUELTYPE</th>\n",
       "      <th>FUELCONSUMPTION_CITY</th>\n",
       "      <th>FUELCONSUMPTION_HWY</th>\n",
       "      <th>FUELCONSUMPTION_COMB</th>\n",
       "      <th>FUELCONSUMPTION_COMB_MPG</th>\n",
       "      <th>CO2EMISSIONS</th>\n",
       "    </tr>\n",
       "  </thead>\n",
       "  <tbody>\n",
       "    <tr>\n",
       "      <th>0</th>\n",
       "      <td>0</td>\n",
       "      <td>2014</td>\n",
       "      <td>ACURA</td>\n",
       "      <td>ILX</td>\n",
       "      <td>COMPACT</td>\n",
       "      <td>2.0</td>\n",
       "      <td>4.0</td>\n",
       "      <td>AS5</td>\n",
       "      <td>3.0</td>\n",
       "      <td>9.9</td>\n",
       "      <td>6.7</td>\n",
       "      <td>8.5</td>\n",
       "      <td>33</td>\n",
       "      <td>196.0</td>\n",
       "    </tr>\n",
       "    <tr>\n",
       "      <th>1</th>\n",
       "      <td>1</td>\n",
       "      <td>2014</td>\n",
       "      <td>ACURA</td>\n",
       "      <td>ILX</td>\n",
       "      <td>COMPACT</td>\n",
       "      <td>2.4</td>\n",
       "      <td>4.0</td>\n",
       "      <td>M6</td>\n",
       "      <td>3.0</td>\n",
       "      <td>11.2</td>\n",
       "      <td>7.7</td>\n",
       "      <td>9.6</td>\n",
       "      <td>29</td>\n",
       "      <td>221.0</td>\n",
       "    </tr>\n",
       "    <tr>\n",
       "      <th>2</th>\n",
       "      <td>2</td>\n",
       "      <td>2014</td>\n",
       "      <td>ACURA</td>\n",
       "      <td>ILX HYBRID</td>\n",
       "      <td>COMPACT</td>\n",
       "      <td>1.5</td>\n",
       "      <td>4.0</td>\n",
       "      <td>AV7</td>\n",
       "      <td>3.0</td>\n",
       "      <td>6.0</td>\n",
       "      <td>5.8</td>\n",
       "      <td>5.9</td>\n",
       "      <td>48</td>\n",
       "      <td>136.0</td>\n",
       "    </tr>\n",
       "    <tr>\n",
       "      <th>3</th>\n",
       "      <td>3</td>\n",
       "      <td>2014</td>\n",
       "      <td>ACURA</td>\n",
       "      <td>MDX 4WD</td>\n",
       "      <td>SUV - SMALL</td>\n",
       "      <td>3.5</td>\n",
       "      <td>6.0</td>\n",
       "      <td>AS6</td>\n",
       "      <td>3.0</td>\n",
       "      <td>12.7</td>\n",
       "      <td>9.1</td>\n",
       "      <td>11.1</td>\n",
       "      <td>25</td>\n",
       "      <td>NaN</td>\n",
       "    </tr>\n",
       "    <tr>\n",
       "      <th>4</th>\n",
       "      <td>4</td>\n",
       "      <td>2014</td>\n",
       "      <td>ACURA</td>\n",
       "      <td>RDX AWD</td>\n",
       "      <td>SUV - SMALL</td>\n",
       "      <td>3.5</td>\n",
       "      <td>6.0</td>\n",
       "      <td>AS6</td>\n",
       "      <td>3.0</td>\n",
       "      <td>12.1</td>\n",
       "      <td>8.7</td>\n",
       "      <td>10.6</td>\n",
       "      <td>27</td>\n",
       "      <td>244.0</td>\n",
       "    </tr>\n",
       "    <tr>\n",
       "      <th>...</th>\n",
       "      <td>...</td>\n",
       "      <td>...</td>\n",
       "      <td>...</td>\n",
       "      <td>...</td>\n",
       "      <td>...</td>\n",
       "      <td>...</td>\n",
       "      <td>...</td>\n",
       "      <td>...</td>\n",
       "      <td>...</td>\n",
       "      <td>...</td>\n",
       "      <td>...</td>\n",
       "      <td>...</td>\n",
       "      <td>...</td>\n",
       "      <td>...</td>\n",
       "    </tr>\n",
       "    <tr>\n",
       "      <th>1062</th>\n",
       "      <td>1062</td>\n",
       "      <td>2014</td>\n",
       "      <td>VOLVO</td>\n",
       "      <td>XC60 AWD</td>\n",
       "      <td>SUV - SMALL</td>\n",
       "      <td>3.0</td>\n",
       "      <td>6.0</td>\n",
       "      <td>AS6</td>\n",
       "      <td>0.0</td>\n",
       "      <td>13.4</td>\n",
       "      <td>9.8</td>\n",
       "      <td>11.8</td>\n",
       "      <td>24</td>\n",
       "      <td>271.0</td>\n",
       "    </tr>\n",
       "    <tr>\n",
       "      <th>1063</th>\n",
       "      <td>1063</td>\n",
       "      <td>2014</td>\n",
       "      <td>VOLVO</td>\n",
       "      <td>XC60 AWD</td>\n",
       "      <td>SUV - SMALL</td>\n",
       "      <td>3.2</td>\n",
       "      <td>6.0</td>\n",
       "      <td>AS6</td>\n",
       "      <td>0.0</td>\n",
       "      <td>13.2</td>\n",
       "      <td>9.5</td>\n",
       "      <td>11.5</td>\n",
       "      <td>25</td>\n",
       "      <td>264.0</td>\n",
       "    </tr>\n",
       "    <tr>\n",
       "      <th>1064</th>\n",
       "      <td>1064</td>\n",
       "      <td>2014</td>\n",
       "      <td>VOLVO</td>\n",
       "      <td>XC70 AWD</td>\n",
       "      <td>SUV - SMALL</td>\n",
       "      <td>3.0</td>\n",
       "      <td>6.0</td>\n",
       "      <td>AS6</td>\n",
       "      <td>0.0</td>\n",
       "      <td>13.4</td>\n",
       "      <td>9.8</td>\n",
       "      <td>11.8</td>\n",
       "      <td>24</td>\n",
       "      <td>271.0</td>\n",
       "    </tr>\n",
       "    <tr>\n",
       "      <th>1065</th>\n",
       "      <td>1065</td>\n",
       "      <td>2014</td>\n",
       "      <td>VOLVO</td>\n",
       "      <td>XC70 AWD</td>\n",
       "      <td>SUV - SMALL</td>\n",
       "      <td>3.2</td>\n",
       "      <td>6.0</td>\n",
       "      <td>AS6</td>\n",
       "      <td>0.0</td>\n",
       "      <td>12.9</td>\n",
       "      <td>9.3</td>\n",
       "      <td>11.3</td>\n",
       "      <td>25</td>\n",
       "      <td>260.0</td>\n",
       "    </tr>\n",
       "    <tr>\n",
       "      <th>1066</th>\n",
       "      <td>1066</td>\n",
       "      <td>2014</td>\n",
       "      <td>VOLVO</td>\n",
       "      <td>XC90 AWD</td>\n",
       "      <td>SUV - STANDARD</td>\n",
       "      <td>3.2</td>\n",
       "      <td>6.0</td>\n",
       "      <td>AS6</td>\n",
       "      <td>0.0</td>\n",
       "      <td>14.9</td>\n",
       "      <td>10.2</td>\n",
       "      <td>12.8</td>\n",
       "      <td>22</td>\n",
       "      <td>294.0</td>\n",
       "    </tr>\n",
       "  </tbody>\n",
       "</table>\n",
       "<p>1067 rows × 14 columns</p>\n",
       "</div>"
      ],
      "text/plain": [
       "      Unnamed: 0  MODELYEAR   MAKE       MODEL    VEHICLECLASS  ENGINESIZE  \\\n",
       "0              0       2014  ACURA         ILX         COMPACT         2.0   \n",
       "1              1       2014  ACURA         ILX         COMPACT         2.4   \n",
       "2              2       2014  ACURA  ILX HYBRID         COMPACT         1.5   \n",
       "3              3       2014  ACURA     MDX 4WD     SUV - SMALL         3.5   \n",
       "4              4       2014  ACURA     RDX AWD     SUV - SMALL         3.5   \n",
       "...          ...        ...    ...         ...             ...         ...   \n",
       "1062        1062       2014  VOLVO    XC60 AWD     SUV - SMALL         3.0   \n",
       "1063        1063       2014  VOLVO    XC60 AWD     SUV - SMALL         3.2   \n",
       "1064        1064       2014  VOLVO    XC70 AWD     SUV - SMALL         3.0   \n",
       "1065        1065       2014  VOLVO    XC70 AWD     SUV - SMALL         3.2   \n",
       "1066        1066       2014  VOLVO    XC90 AWD  SUV - STANDARD         3.2   \n",
       "\n",
       "      CYLINDERS TRANSMISSION  FUELTYPE  FUELCONSUMPTION_CITY  \\\n",
       "0           4.0          AS5       3.0                   9.9   \n",
       "1           4.0           M6       3.0                  11.2   \n",
       "2           4.0          AV7       3.0                   6.0   \n",
       "3           6.0          AS6       3.0                  12.7   \n",
       "4           6.0          AS6       3.0                  12.1   \n",
       "...         ...          ...       ...                   ...   \n",
       "1062        6.0          AS6       0.0                  13.4   \n",
       "1063        6.0          AS6       0.0                  13.2   \n",
       "1064        6.0          AS6       0.0                  13.4   \n",
       "1065        6.0          AS6       0.0                  12.9   \n",
       "1066        6.0          AS6       0.0                  14.9   \n",
       "\n",
       "      FUELCONSUMPTION_HWY  FUELCONSUMPTION_COMB  FUELCONSUMPTION_COMB_MPG  \\\n",
       "0                     6.7                   8.5                        33   \n",
       "1                     7.7                   9.6                        29   \n",
       "2                     5.8                   5.9                        48   \n",
       "3                     9.1                  11.1                        25   \n",
       "4                     8.7                  10.6                        27   \n",
       "...                   ...                   ...                       ...   \n",
       "1062                  9.8                  11.8                        24   \n",
       "1063                  9.5                  11.5                        25   \n",
       "1064                  9.8                  11.8                        24   \n",
       "1065                  9.3                  11.3                        25   \n",
       "1066                 10.2                  12.8                        22   \n",
       "\n",
       "      CO2EMISSIONS  \n",
       "0            196.0  \n",
       "1            221.0  \n",
       "2            136.0  \n",
       "3              NaN  \n",
       "4            244.0  \n",
       "...            ...  \n",
       "1062         271.0  \n",
       "1063         264.0  \n",
       "1064         271.0  \n",
       "1065         260.0  \n",
       "1066         294.0  \n",
       "\n",
       "[1067 rows x 14 columns]"
      ]
     },
     "execution_count": 11,
     "metadata": {},
     "output_type": "execute_result"
    }
   ],
   "source": [
    "column_means = dataframe.mean(numeric_only=True)\n",
    "last_column_copy = dataframe['CO2EMISSIONS'].copy()\n",
    "dataframe['FUELTYPE'].fillna(dataframe['FUELTYPE'].mode()[0], inplace=True)\n",
    "dataframe = dataframe.fillna(column_means)\n",
    "dataframe['MODEL'].fillna(dataframe['MODEL'].mode()[0], inplace=True)\n",
    "dataframe['CO2EMISSIONS'] = last_column_copy\n",
    "missing_df = dataframe[dataframe['CO2EMISSIONS'].isnull()]\n",
    "dataframe"
   ]
  },
  {
   "cell_type": "markdown",
   "id": "e7cf2c6e",
   "metadata": {},
   "source": [
    "Here, if we get the null count for the dataframe in question, we get the following result; No null value in any of the columns except the target column that still has 103 missing instances."
   ]
  },
  {
   "cell_type": "code",
   "execution_count": 12,
   "id": "a1046a15",
   "metadata": {
    "scrolled": true
   },
   "outputs": [
    {
     "data": {
      "text/plain": [
       "Unnamed: 0                    0\n",
       "MODELYEAR                     0\n",
       "MAKE                          0\n",
       "MODEL                         0\n",
       "VEHICLECLASS                  0\n",
       "ENGINESIZE                    0\n",
       "CYLINDERS                     0\n",
       "TRANSMISSION                  0\n",
       "FUELTYPE                      0\n",
       "FUELCONSUMPTION_CITY          0\n",
       "FUELCONSUMPTION_HWY           0\n",
       "FUELCONSUMPTION_COMB          0\n",
       "FUELCONSUMPTION_COMB_MPG      0\n",
       "CO2EMISSIONS                103\n",
       "dtype: int64"
      ]
     },
     "execution_count": 12,
     "metadata": {},
     "output_type": "execute_result"
    }
   ],
   "source": [
    "dataframe.isnull().sum()"
   ]
  },
  {
   "cell_type": "markdown",
   "id": "6013cc8a",
   "metadata": {},
   "source": [
    "# 4\n",
    "Here, we want to retrieve the mean fuel consumption in city of cars with a CO2 emission of less than 240. The pandas package enables us to use boolean indexing to select the data from the dataframes using a boolean vector. \n",
    "In boolean indexing, we select subsets of data based on the actual values of the data in the data and not on their row/column labels or integer locations. <br>\n",
    "So all we need to do is to use one expressions to filter the data and get a subset of cars with CO2EMISSIONS less than 240. We store the mean of FUELCONSUMPTION_CITY column for this subset in a variable called 'less_than_240'. To get the mean fuel consumption of cars with a CO2 emission of more than 300, we do the same exact thing except we get the mean of FUELCONSUMPTION_CITY column of records with CO2EMISSIONS more than 300 and store it in 'more_than_300'. "
   ]
  },
  {
   "cell_type": "code",
   "execution_count": 13,
   "id": "09ca69e1",
   "metadata": {},
   "outputs": [
    {
     "name": "stdout",
     "output_type": "stream",
     "text": [
      "Cars with a CO2 emission less than 240, consume 10.03781902552204 on average.\n",
      "Cars with CO2 emission more than 300, consume 18.663255813953487 on average.\n"
     ]
    },
    {
     "data": {
      "text/plain": [
       "1.062154769897461"
      ]
     },
     "execution_count": 13,
     "metadata": {},
     "output_type": "execute_result"
    }
   ],
   "source": [
    "start_time = time.time()\n",
    "less_than_240 = dataframe[\"FUELCONSUMPTION_CITY\"][(dataframe['CO2EMISSIONS'] < 240)].mean()\n",
    "more_than_300 = dataframe[\"FUELCONSUMPTION_CITY\"][(dataframe['CO2EMISSIONS'] > 300)].mean()\n",
    "finish_time = time.time()\n",
    "print(\"Cars with a CO2 emission less than 240, consume\", less_than_240, \"on average.\")\n",
    "print(\"Cars with CO2 emission more than 300, consume\", more_than_300, \"on average.\")\n",
    "(finish_time - start_time)*1000"
   ]
  },
  {
   "cell_type": "markdown",
   "id": "cf077ea6",
   "metadata": {},
   "source": [
    "# 5\n",
    "Now, we calculate the same result without vectorization. Instead we iterate through each row and check if the corresponding CO2EMISSION is lower than 240 or greater than 300 and if so increment the corresponding count variable by one and add the FUELCONSUMPTION_CITY value to sum variable. <br>\n",
    "If we get the time before and after a computation takes place, we can calculate how long the calculation takes to complete. Note that both in the previous code block, using vectorization, and in this block, using a for-loop, we printed the results after getting finish time, so printing the output would not have any effect on the computation duration. <br>\n",
    "Upon running the two blocks a few times, the average time using vectorization is 1.86s while the average time using for-loop is 54.25s which is a whopping 30 times higher. The reason for the difference is that when looping over an array or any data structure in Python, there’s a lot of overhead involved. Vectorized operations in numpy delegate the looping internally to highly optimized C and Fortran functions, making for cleaner and faster Python code."
   ]
  },
  {
   "cell_type": "code",
   "execution_count": 14,
   "id": "cefe7ca1",
   "metadata": {},
   "outputs": [
    {
     "name": "stdout",
     "output_type": "stream",
     "text": [
      "Cars with a CO2 emission less than 240, consume 10.037819025522042 on average.\n",
      "Cars with CO2 emission more than 300, consume 18.663255813953487 on average.\n"
     ]
    },
    {
     "data": {
      "text/plain": [
       "54.03709411621094"
      ]
     },
     "execution_count": 14,
     "metadata": {},
     "output_type": "execute_result"
    }
   ],
   "source": [
    "start_time = time.time()\n",
    "count_less_than_240 = 0\n",
    "sum_less_than_240 = 0\n",
    "count_more_than_300 = 0\n",
    "sum_more_than_300 = 0\n",
    "for i, row in dataframe.iterrows():\n",
    "    if (row['CO2EMISSIONS'] < 240):\n",
    "        count_less_than_240 += 1\n",
    "        sum_less_than_240 += row[\"FUELCONSUMPTION_CITY\"]\n",
    "    elif (row['CO2EMISSIONS'] > 300):\n",
    "        count_more_than_300 += 1\n",
    "        sum_more_than_300 += row[\"FUELCONSUMPTION_CITY\"]\n",
    "less_than_240 = sum_less_than_240 / count_less_than_240\n",
    "more_than_300 = sum_more_than_300 / count_more_than_300\n",
    "finish_time = time.time()\n",
    "print(\"Cars with a CO2 emission less than 240, consume\", less_than_240, \"on average.\")\n",
    "print(\"Cars with CO2 emission more than 300, consume\", more_than_300, \"on average.\")\n",
    "(finish_time - start_time)*1000"
   ]
  },
  {
   "cell_type": "markdown",
   "id": "c71fe574",
   "metadata": {},
   "source": [
    "# 6\n",
    "We can visulaize the data distribution in any column using the hist() method on the dataframe and we will get the corresponding diagram for any column with numerical value. Now, here, if we use vectorization we get the result in a shorter period of time, but in order to get a closer lookat each graph, we plotted every numerical column separately after the following code block. <br>\n",
    "By using histograms, we can get a brief yet informational representation of each category, the distribution of the cars, visualization for how concentrated the data really is and so on. <br>\n",
    "From now on we only deal with numercial columns, therefore MAKE, MODEL, VEHICLECLASS, TRNASMISSION and even FUELTYPE that was mapped to integer values from 0 to 3 are dropped and the remaining data is save in a new dataframe. <br>\n",
    "Furthermore, MODELYEAR was dropped despite the fact that year has numerical value. Since the standard deviation is calculated by taking the sum of the squared deviations from the mean, a zero standard deviation can only be possible when all the values of a variable are the same (all equal to the mean). In this case, those variables have no discriminative power so they can be removed from the analysis. They cannot improve any classification, clustering or regression task."
   ]
  },
  {
   "cell_type": "code",
   "execution_count": 15,
   "id": "83bf12b9",
   "metadata": {},
   "outputs": [],
   "source": [
    "df = dataframe.drop([\"MODELYEAR\", \"MAKE\", \"MODEL\", \"VEHICLECLASS\", \"TRANSMISSION\", \"FUELTYPE\"], axis=1)"
   ]
  },
  {
   "cell_type": "code",
   "execution_count": 16,
   "id": "cb81cdc3",
   "metadata": {
    "scrolled": true
   },
   "outputs": [
    {
     "data": {
      "text/plain": [
       "array([[<AxesSubplot:title={'center':'Unnamed: 0'}>,\n",
       "        <AxesSubplot:title={'center':'MODELYEAR'}>,\n",
       "        <AxesSubplot:title={'center':'ENGINESIZE'}>],\n",
       "       [<AxesSubplot:title={'center':'CYLINDERS'}>,\n",
       "        <AxesSubplot:title={'center':'FUELTYPE'}>,\n",
       "        <AxesSubplot:title={'center':'FUELCONSUMPTION_CITY'}>],\n",
       "       [<AxesSubplot:title={'center':'FUELCONSUMPTION_HWY'}>,\n",
       "        <AxesSubplot:title={'center':'FUELCONSUMPTION_COMB'}>,\n",
       "        <AxesSubplot:title={'center':'FUELCONSUMPTION_COMB_MPG'}>],\n",
       "       [<AxesSubplot:title={'center':'CO2EMISSIONS'}>, <AxesSubplot:>,\n",
       "        <AxesSubplot:>]], dtype=object)"
      ]
     },
     "execution_count": 16,
     "metadata": {},
     "output_type": "execute_result"
    },
    {
     "data": {
      "image/png": "[encoded data removed]",
      "text/plain": [
       "<Figure size 432x288 with 12 Axes>"
      ]
     },
     "metadata": {
      "needs_background": "light"
     },
     "output_type": "display_data"
    }
   ],
   "source": [
    "dataframe.hist()"
   ]
  },
  {
   "cell_type": "markdown",
   "id": "42bd90f0",
   "metadata": {},
   "source": [
    "The histograms of each numerical column is displayed below. <br>\n",
    "MODELYEAR: As is clear, all the 1067 cars are produced in 2014. Thus, for this column we see that all the data is focused in one bar with the value of 2014. <br>\n",
    "ENGINESIZE: engine size in this dataset has a value between 1 and 8. Therefore the bar starting at 1 to 2 represents the number of cars with 1 < engine size < 2. We can see that there are no cars with an engine size between 7 and 8. <br>\n",
    "CYLINDERS: All the cars in this dataset can have 3, 4, 5, 6, 8, 10 or 12 cylinders. Therefore, we see 7 rectangle bars with these values on the x-axis and the majority of cars, a little over 400 actually, have 4 cylinders. <br>\n",
    "FUELTYPE: We previouly label encoded this column with integer values in the range of 0 to 3. Here we see 4 major columns on 0, 1, 2 and 3 as expected with fuel type of 0 formerly known as X. <br>\n",
    "FUELCONSUMPTION: All the fuel consumption columns have a common pattern which is described as follows. The majority of cars fall between the first and third quartile. The mode is also a value between first quartile and median. "
   ]
  },
  {
   "cell_type": "code",
   "execution_count": 17,
   "id": "9ffc921e",
   "metadata": {},
   "outputs": [
    {
     "data": {
      "image/png": "[encoded data removed]",
      "text/plain": [
       "<Figure size 432x288 with 1 Axes>"
      ]
     },
     "metadata": {
      "needs_background": "light"
     },
     "output_type": "display_data"
    },
    {
     "data": {
      "image/png": "[encoded data removed]",
      "text/plain": [
       "<Figure size 432x288 with 1 Axes>"
      ]
     },
     "metadata": {
      "needs_background": "light"
     },
     "output_type": "display_data"
    },
    {
     "data": {
      "image/png": "[encoded data removed]",
      "text/plain": [
       "<Figure size 432x288 with 1 Axes>"
      ]
     },
     "metadata": {
      "needs_background": "light"
     },
     "output_type": "display_data"
    },
    {
     "data": {
      "image/png": "[encoded data removed]",
      "text/plain": [
       "<Figure size 432x288 with 1 Axes>"
      ]
     },
     "metadata": {
      "needs_background": "light"
     },
     "output_type": "display_data"
    },
    {
     "data": {
      "image/png": "[encoded data removed]",
      "text/plain": [
       "<Figure size 432x288 with 1 Axes>"
      ]
     },
     "metadata": {
      "needs_background": "light"
     },
     "output_type": "display_data"
    },
    {
     "data": {
      "image/png": "[encoded data removed]",
      "text/plain": [
       "<Figure size 432x288 with 1 Axes>"
      ]
     },
     "metadata": {
      "needs_background": "light"
     },
     "output_type": "display_data"
    },
    {
     "data": {
      "image/png": "[encoded data removed]",
      "text/plain": [
       "<Figure size 432x288 with 1 Axes>"
      ]
     },
     "metadata": {
      "needs_background": "light"
     },
     "output_type": "display_data"
    },
    {
     "data": {
      "image/png": "[encoded data removed]",
      "text/plain": [
       "<Figure size 432x288 with 1 Axes>"
      ]
     },
     "metadata": {
      "needs_background": "light"
     },
     "output_type": "display_data"
    },
    {
     "data": {
      "image/png": "[encoded data removed]",
      "text/plain": [
       "<Figure size 432x288 with 1 Axes>"
      ]
     },
     "metadata": {
      "needs_background": "light"
     },
     "output_type": "display_data"
    },
    {
     "data": {
      "image/png": "[encoded data removed]",
      "text/plain": [
       "<Figure size 432x288 with 1 Axes>"
      ]
     },
     "metadata": {
      "needs_background": "light"
     },
     "output_type": "display_data"
    }
   ],
   "source": [
    "for i, value in dataframe.iteritems():\n",
    "    if (dataframe[i].dtype != object):\n",
    "        axarr = dataframe.hist(column=i, sharex=True, sharey=True)\n",
    "        for ax in axarr.flatten():\n",
    "            ax.set_xlabel(i)\n",
    "            ax.set_ylabel(\"Number of cars\")"
   ]
  },
  {
   "cell_type": "markdown",
   "id": "a8adb616",
   "metadata": {},
   "source": [
    "# 7\n",
    "One way to optimize the data for machine learning is to normalize them. Data normalization is a common practice in machine learning which consists of transforming numeric columns to a common scale. To normalize the data in each column, we must subtract the mean value and divide the result by standard deviation of that set of data. Using vectorization, we simply treat the entire dataframe like an individual element. However, we do not want to modify and manipulate the index column in this proces; So we store a copy of this column before normalizing the entire dataset and then replace the modified target column with the original one. <br>\n",
    "Now if we render the yielded dataframe, we can notice a few changes:\n",
    "1) There are no longer any (inherently) categorial columns present in the frame. <br>\n",
    "2) The absolute values in every column has now a common scale <br>\n",
    "3) The index (Unnamed: 0) column is still intact."
   ]
  },
  {
   "cell_type": "code",
   "execution_count": 18,
   "id": "e53b1b45",
   "metadata": {},
   "outputs": [
    {
     "data": {
      "text/html": [
       "<div>\n",
       "<style scoped>\n",
       "    .dataframe tbody tr th:only-of-type {\n",
       "        vertical-align: middle;\n",
       "    }\n",
       "\n",
       "    .dataframe tbody tr th {\n",
       "        vertical-align: top;\n",
       "    }\n",
       "\n",
       "    .dataframe thead th {\n",
       "        text-align: right;\n",
       "    }\n",
       "</style>\n",
       "<table border=\"1\" class=\"dataframe\">\n",
       "  <thead>\n",
       "    <tr style=\"text-align: right;\">\n",
       "      <th></th>\n",
       "      <th>Unnamed: 0</th>\n",
       "      <th>ENGINESIZE</th>\n",
       "      <th>CYLINDERS</th>\n",
       "      <th>FUELCONSUMPTION_CITY</th>\n",
       "      <th>FUELCONSUMPTION_HWY</th>\n",
       "      <th>FUELCONSUMPTION_COMB</th>\n",
       "      <th>FUELCONSUMPTION_COMB_MPG</th>\n",
       "      <th>CO2EMISSIONS</th>\n",
       "    </tr>\n",
       "  </thead>\n",
       "  <tbody>\n",
       "    <tr>\n",
       "      <th>0</th>\n",
       "      <td>0</td>\n",
       "      <td>-0.950214</td>\n",
       "      <td>-1.010949</td>\n",
       "      <td>-0.828169</td>\n",
       "      <td>-0.992876</td>\n",
       "      <td>-0.883890</td>\n",
       "      <td>0.878141</td>\n",
       "      <td>-0.960111</td>\n",
       "    </tr>\n",
       "    <tr>\n",
       "      <th>1</th>\n",
       "      <td>1</td>\n",
       "      <td>-0.663149</td>\n",
       "      <td>-1.010949</td>\n",
       "      <td>-0.511193</td>\n",
       "      <td>-0.635031</td>\n",
       "      <td>-0.568305</td>\n",
       "      <td>0.342573</td>\n",
       "      <td>-0.564949</td>\n",
       "    </tr>\n",
       "    <tr>\n",
       "      <th>2</th>\n",
       "      <td>2</td>\n",
       "      <td>-1.309046</td>\n",
       "      <td>-1.010949</td>\n",
       "      <td>-1.779098</td>\n",
       "      <td>-1.314936</td>\n",
       "      <td>-1.629817</td>\n",
       "      <td>2.886522</td>\n",
       "      <td>-1.908498</td>\n",
       "    </tr>\n",
       "    <tr>\n",
       "      <th>3</th>\n",
       "      <td>3</td>\n",
       "      <td>0.126281</td>\n",
       "      <td>0.113779</td>\n",
       "      <td>-0.145451</td>\n",
       "      <td>-0.134049</td>\n",
       "      <td>-0.137962</td>\n",
       "      <td>-0.192995</td>\n",
       "      <td>NaN</td>\n",
       "    </tr>\n",
       "    <tr>\n",
       "      <th>4</th>\n",
       "      <td>4</td>\n",
       "      <td>0.126281</td>\n",
       "      <td>0.113779</td>\n",
       "      <td>-0.291748</td>\n",
       "      <td>-0.277187</td>\n",
       "      <td>-0.281410</td>\n",
       "      <td>0.074789</td>\n",
       "      <td>-0.201401</td>\n",
       "    </tr>\n",
       "    <tr>\n",
       "      <th>...</th>\n",
       "      <td>...</td>\n",
       "      <td>...</td>\n",
       "      <td>...</td>\n",
       "      <td>...</td>\n",
       "      <td>...</td>\n",
       "      <td>...</td>\n",
       "      <td>...</td>\n",
       "      <td>...</td>\n",
       "    </tr>\n",
       "    <tr>\n",
       "      <th>1062</th>\n",
       "      <td>1062</td>\n",
       "      <td>-0.232551</td>\n",
       "      <td>0.113779</td>\n",
       "      <td>0.025228</td>\n",
       "      <td>0.116442</td>\n",
       "      <td>0.062864</td>\n",
       "      <td>-0.326887</td>\n",
       "      <td>0.225373</td>\n",
       "    </tr>\n",
       "    <tr>\n",
       "      <th>1063</th>\n",
       "      <td>1063</td>\n",
       "      <td>-0.089018</td>\n",
       "      <td>0.113779</td>\n",
       "      <td>-0.023537</td>\n",
       "      <td>0.009089</td>\n",
       "      <td>-0.023204</td>\n",
       "      <td>-0.192995</td>\n",
       "      <td>0.114728</td>\n",
       "    </tr>\n",
       "    <tr>\n",
       "      <th>1064</th>\n",
       "      <td>1064</td>\n",
       "      <td>-0.232551</td>\n",
       "      <td>0.113779</td>\n",
       "      <td>0.025228</td>\n",
       "      <td>0.116442</td>\n",
       "      <td>0.062864</td>\n",
       "      <td>-0.326887</td>\n",
       "      <td>0.225373</td>\n",
       "    </tr>\n",
       "    <tr>\n",
       "      <th>1065</th>\n",
       "      <td>1065</td>\n",
       "      <td>-0.089018</td>\n",
       "      <td>0.113779</td>\n",
       "      <td>-0.096686</td>\n",
       "      <td>-0.062480</td>\n",
       "      <td>-0.080583</td>\n",
       "      <td>-0.192995</td>\n",
       "      <td>0.051502</td>\n",
       "    </tr>\n",
       "    <tr>\n",
       "      <th>1066</th>\n",
       "      <td>1066</td>\n",
       "      <td>-0.089018</td>\n",
       "      <td>0.113779</td>\n",
       "      <td>0.390970</td>\n",
       "      <td>0.259580</td>\n",
       "      <td>0.349759</td>\n",
       "      <td>-0.594672</td>\n",
       "      <td>0.588921</td>\n",
       "    </tr>\n",
       "  </tbody>\n",
       "</table>\n",
       "<p>1067 rows × 8 columns</p>\n",
       "</div>"
      ],
      "text/plain": [
       "      Unnamed: 0  ENGINESIZE  CYLINDERS  FUELCONSUMPTION_CITY  \\\n",
       "0              0   -0.950214  -1.010949             -0.828169   \n",
       "1              1   -0.663149  -1.010949             -0.511193   \n",
       "2              2   -1.309046  -1.010949             -1.779098   \n",
       "3              3    0.126281   0.113779             -0.145451   \n",
       "4              4    0.126281   0.113779             -0.291748   \n",
       "...          ...         ...        ...                   ...   \n",
       "1062        1062   -0.232551   0.113779              0.025228   \n",
       "1063        1063   -0.089018   0.113779             -0.023537   \n",
       "1064        1064   -0.232551   0.113779              0.025228   \n",
       "1065        1065   -0.089018   0.113779             -0.096686   \n",
       "1066        1066   -0.089018   0.113779              0.390970   \n",
       "\n",
       "      FUELCONSUMPTION_HWY  FUELCONSUMPTION_COMB  FUELCONSUMPTION_COMB_MPG  \\\n",
       "0               -0.992876             -0.883890                  0.878141   \n",
       "1               -0.635031             -0.568305                  0.342573   \n",
       "2               -1.314936             -1.629817                  2.886522   \n",
       "3               -0.134049             -0.137962                 -0.192995   \n",
       "4               -0.277187             -0.281410                  0.074789   \n",
       "...                   ...                   ...                       ...   \n",
       "1062             0.116442              0.062864                 -0.326887   \n",
       "1063             0.009089             -0.023204                 -0.192995   \n",
       "1064             0.116442              0.062864                 -0.326887   \n",
       "1065            -0.062480             -0.080583                 -0.192995   \n",
       "1066             0.259580              0.349759                 -0.594672   \n",
       "\n",
       "      CO2EMISSIONS  \n",
       "0        -0.960111  \n",
       "1        -0.564949  \n",
       "2        -1.908498  \n",
       "3              NaN  \n",
       "4        -0.201401  \n",
       "...            ...  \n",
       "1062      0.225373  \n",
       "1063      0.114728  \n",
       "1064      0.225373  \n",
       "1065      0.051502  \n",
       "1066      0.588921  \n",
       "\n",
       "[1067 rows x 8 columns]"
      ]
     },
     "execution_count": 18,
     "metadata": {},
     "output_type": "execute_result"
    }
   ],
   "source": [
    "first_column_copy = df[\"Unnamed: 0\"]\n",
    "normalized_df = ((df - df.mean())/df.std())\n",
    "normalized_df[\"Unnamed: 0\"] = first_column_copy\n",
    "normalized_df"
   ]
  },
  {
   "cell_type": "markdown",
   "id": "af8e0357",
   "metadata": {},
   "source": [
    "# 8\n",
    "In this section, we draw a plot scatter of all the columns, except for index and CO2EMISSION column, with respect to the corresponding CO2 emission. The index has no computational value here since it only represents the number of record so it was not taken into account. <br>\n",
    "The CO2EMISSIONS-ENGINESIZE plot has a bunch of spots scattered all over the plain. There seem to be very little correlation between the two variables, so we move to next column. <br>\n",
    "The CO2EMISSION-CYLINDERS plot consists of 7 bars since number of cylinders is a discrete and limited variable, as mentioned before, spots are not distributed across the plain and are only focused in these 7 lines. Here too, seems to be no correlation as no obvious line can be drawn to correlate the two variables. <br>\n",
    "The CO2EMISSION-FUELCONSUMPTION_CITY and CO2EMISSION-FUELCONSUMPTION_HWY begin to take more the shape of a line instead of seemingly randomly distributed. However, still spots are not perfectly along a certain line. <br>\n",
    "The CO2EMISSION-FUELCONSUMPTION_COMB consists of a very visible and spot-on line and a smaller line on the side. This plot is showing how the increase in combination of fuel consumption results in a higher CO2 emission and the spots form a clear line. This column is so far the best candidate for linear regression to estimate the missing CO2 emission data. <br>\n",
    "The CO2EMISSION-FUELCONSUMPTION_COMB_MPG consists of one curve and two smaller curves alongside it. This plot also suggests a negative correlation between the two variables, meaning that the increase in the combination of fuel consumption (miles per gallon) results in a lower CO2 emission. However the correlation not linear like CO2EMISSION-FUELCONSUMPTION_COMB."
   ]
  },
  {
   "cell_type": "code",
   "execution_count": 19,
   "id": "bb2738e9",
   "metadata": {
    "scrolled": false
   },
   "outputs": [
    {
     "data": {
      "image/png": "[encoded data removed]",
      "text/plain": [
       "<Figure size 432x288 with 1 Axes>"
      ]
     },
     "metadata": {
      "needs_background": "light"
     },
     "output_type": "display_data"
    },
    {
     "data": {
      "image/png": "[encoded data removed]",
      "text/plain": [
       "<Figure size 432x288 with 1 Axes>"
      ]
     },
     "metadata": {
      "needs_background": "light"
     },
     "output_type": "display_data"
    },
    {
     "data": {
      "image/png": "[encoded data removed]",
      "text/plain": [
       "<Figure size 432x288 with 1 Axes>"
      ]
     },
     "metadata": {
      "needs_background": "light"
     },
     "output_type": "display_data"
    },
    {
     "data": {
      "image/png": "[encoded data removed]",
      "text/plain": [
       "<Figure size 432x288 with 1 Axes>"
      ]
     },
     "metadata": {
      "needs_background": "light"
     },
     "output_type": "display_data"
    },
    {
     "data": {
      "image/png": "[encoded data removed]",
      "text/plain": [
       "<Figure size 432x288 with 1 Axes>"
      ]
     },
     "metadata": {
      "needs_background": "light"
     },
     "output_type": "display_data"
    },
    {
     "data": {
      "image/png": "[encoded data removed]",
      "text/plain": [
       "<Figure size 432x288 with 1 Axes>"
      ]
     },
     "metadata": {
      "needs_background": "light"
     },
     "output_type": "display_data"
    }
   ],
   "source": [
    "for i, value in normalized_df.iteritems():\n",
    "    if (i != \"CO2EMISSIONS\" and i != \"Unnamed: 0\"):\n",
    "        plt.scatter(normalized_df[i], normalized_df[\"CO2EMISSIONS\"])\n",
    "        plt.xlabel(i)\n",
    "        plt.ylabel(\"CO2 Emissions\")\n",
    "        plt.show()"
   ]
  },
  {
   "cell_type": "markdown",
   "id": "7f776449",
   "metadata": {},
   "source": [
    "Linear regression is a common method to model the relationship between a dependent variable and one or more independent variables. Linear models are developed using the parameters which are estimated from the data. Linear regression is useful in prediction and forecasting where a predictive model is fit to an observed data set of values to determine the response. <br>\n",
    "In conclusion the FUELCONSUMPTION_COMB is the feature with most linear correlation with CO2 emission and thus will be used in the next sections to fill the missing CO2 emission once the hypothesis function is achieved. What we did here is called feature selection: A process where you automatically select those features in your data that contribute most to the prediction variable or output in which you are interested."
   ]
  },
  {
   "cell_type": "markdown",
   "id": "b1556c06",
   "metadata": {},
   "source": [
    "# 9\n",
    "Once we have identified two variables that are correlated, we would like to model this relationship. We want to use one variable as a predictor variable to explain the other variable, the dependent variable. <br>\n",
    "Now that the feature selection process is over, we copy the index column, selected feature, FUELCONSUMPTION_COMB in our case, and the target column into a new dataframe called 'target_pred'. The content of this dataframe is displayed below, and as expected, it consists of the three aformentioned columns with normalized data. We will use this dataframe in the following sections."
   ]
  },
  {
   "cell_type": "code",
   "execution_count": 20,
   "id": "d27ec3d6",
   "metadata": {
    "scrolled": true
   },
   "outputs": [
    {
     "data": {
      "text/html": [
       "<div>\n",
       "<style scoped>\n",
       "    .dataframe tbody tr th:only-of-type {\n",
       "        vertical-align: middle;\n",
       "    }\n",
       "\n",
       "    .dataframe tbody tr th {\n",
       "        vertical-align: top;\n",
       "    }\n",
       "\n",
       "    .dataframe thead th {\n",
       "        text-align: right;\n",
       "    }\n",
       "</style>\n",
       "<table border=\"1\" class=\"dataframe\">\n",
       "  <thead>\n",
       "    <tr style=\"text-align: right;\">\n",
       "      <th></th>\n",
       "      <th>Unnamed: 0</th>\n",
       "      <th>FUELCONSUMPTION_CITY</th>\n",
       "      <th>CO2EMISSIONS</th>\n",
       "    </tr>\n",
       "  </thead>\n",
       "  <tbody>\n",
       "    <tr>\n",
       "      <th>0</th>\n",
       "      <td>0</td>\n",
       "      <td>-0.828169</td>\n",
       "      <td>-0.960111</td>\n",
       "    </tr>\n",
       "    <tr>\n",
       "      <th>1</th>\n",
       "      <td>1</td>\n",
       "      <td>-0.511193</td>\n",
       "      <td>-0.564949</td>\n",
       "    </tr>\n",
       "    <tr>\n",
       "      <th>2</th>\n",
       "      <td>2</td>\n",
       "      <td>-1.779098</td>\n",
       "      <td>-1.908498</td>\n",
       "    </tr>\n",
       "    <tr>\n",
       "      <th>3</th>\n",
       "      <td>3</td>\n",
       "      <td>-0.145451</td>\n",
       "      <td>NaN</td>\n",
       "    </tr>\n",
       "    <tr>\n",
       "      <th>4</th>\n",
       "      <td>4</td>\n",
       "      <td>-0.291748</td>\n",
       "      <td>-0.201401</td>\n",
       "    </tr>\n",
       "    <tr>\n",
       "      <th>...</th>\n",
       "      <td>...</td>\n",
       "      <td>...</td>\n",
       "      <td>...</td>\n",
       "    </tr>\n",
       "    <tr>\n",
       "      <th>1062</th>\n",
       "      <td>1062</td>\n",
       "      <td>0.025228</td>\n",
       "      <td>0.225373</td>\n",
       "    </tr>\n",
       "    <tr>\n",
       "      <th>1063</th>\n",
       "      <td>1063</td>\n",
       "      <td>-0.023537</td>\n",
       "      <td>0.114728</td>\n",
       "    </tr>\n",
       "    <tr>\n",
       "      <th>1064</th>\n",
       "      <td>1064</td>\n",
       "      <td>0.025228</td>\n",
       "      <td>0.225373</td>\n",
       "    </tr>\n",
       "    <tr>\n",
       "      <th>1065</th>\n",
       "      <td>1065</td>\n",
       "      <td>-0.096686</td>\n",
       "      <td>0.051502</td>\n",
       "    </tr>\n",
       "    <tr>\n",
       "      <th>1066</th>\n",
       "      <td>1066</td>\n",
       "      <td>0.390970</td>\n",
       "      <td>0.588921</td>\n",
       "    </tr>\n",
       "  </tbody>\n",
       "</table>\n",
       "<p>1067 rows × 3 columns</p>\n",
       "</div>"
      ],
      "text/plain": [
       "      Unnamed: 0  FUELCONSUMPTION_CITY  CO2EMISSIONS\n",
       "0              0             -0.828169     -0.960111\n",
       "1              1             -0.511193     -0.564949\n",
       "2              2             -1.779098     -1.908498\n",
       "3              3             -0.145451           NaN\n",
       "4              4             -0.291748     -0.201401\n",
       "...          ...                   ...           ...\n",
       "1062        1062              0.025228      0.225373\n",
       "1063        1063             -0.023537      0.114728\n",
       "1064        1064              0.025228      0.225373\n",
       "1065        1065             -0.096686      0.051502\n",
       "1066        1066              0.390970      0.588921\n",
       "\n",
       "[1067 rows x 3 columns]"
      ]
     },
     "execution_count": 20,
     "metadata": {},
     "output_type": "execute_result"
    }
   ],
   "source": [
    "target_pred = normalized_df.filter([\"Unnamed: 0\", \"FUELCONSUMPTION_CITY\", \"CO2EMISSIONS\"], axis = 1)\n",
    "target_pred"
   ]
  },
  {
   "cell_type": "markdown",
   "id": "796a9712",
   "metadata": {},
   "source": [
    "Here we are going to use linear regression to predict the missing data in target column, so our objective here is to find b1 and b0 given by the model: y = b1 * x + b0\n",
    "b1 and b0 are the slope and y-intercept of the line respectively. Mathematical formula to calculate slope and intercept are given below: <br>\n",
    "Slope = Sxy/Sxx (Sxy: sample covariance, Sxx: sample variance) <br>\n",
    "Intercept = ymean – slope* xmean <br>\n",
    "The result is plotted below. <br>"
   ]
  },
  {
   "cell_type": "code",
   "execution_count": 21,
   "id": "696bd98d",
   "metadata": {},
   "outputs": [
    {
     "name": "stdout",
     "output_type": "stream",
     "text": [
      "Slope b1 is: 0.8166751209503406\n",
      "Intercept b0 is: 1.6845224920507827e-16\n"
     ]
    },
    {
     "data": {
      "text/plain": [
       "Text(0, 0.5, 'CO2EMISSION')"
      ]
     },
     "execution_count": 21,
     "metadata": {},
     "output_type": "execute_result"
    },
    {
     "data": {
      "image/png": "[encoded data removed]",
      "text/plain": [
       "<Figure size 432x288 with 1 Axes>"
      ]
     },
     "metadata": {
      "needs_background": "light"
     },
     "output_type": "display_data"
    }
   ],
   "source": [
    "x = target_pred[\"FUELCONSUMPTION_CITY\"]\n",
    "y = target_pred[\"CO2EMISSIONS\"]\n",
    "n = np.size(x)\n",
    "x_mean = np.mean(x)\n",
    "y_mean = np.mean(y)\n",
    "x_mean,y_mean\n",
    "  \n",
    "Sxy = np.sum(x*y) - (np.sum(x)*np.sum(y))/n\n",
    "Sxx = np.sum(x*x) - (np.sum(x)**2)/n\n",
    "  \n",
    "b1 = Sxy/Sxx\n",
    "b0 = y_mean - b1*x_mean\n",
    "\n",
    "print(\"Slope b1 is:\", b1)\n",
    "print(\"Intercept b0 is:\", b0)\n",
    "\n",
    "y_pred = b1 * x + b0\n",
    "  \n",
    "plt.scatter(x, y_pred)\n",
    "plt.xlabel(\"FUELCONSUMPTION_COMB\")\n",
    "plt.ylabel(\"CO2EMISSION\")"
   ]
  },
  {
   "cell_type": "markdown",
   "id": "e72d7180",
   "metadata": {},
   "source": [
    "# 10\n",
    "Analyze the performance of the model by calculating mean squared error the formula for which is as follows: <br>\n",
    "SE = <span>&Sigma;</span>(y_pred - y)^2 <br>\n",
    "MSE = SE / N <br>\n",
    "Below we calculated the mean squared error of CO2EMISSION by comparing the predicted value with the actual CO2 emissions provided and the error is 0.214. The low value of error signify that the linear regression fits data well."
   ]
  },
  {
   "cell_type": "code",
   "execution_count": 22,
   "id": "b0cdfc74",
   "metadata": {},
   "outputs": [
    {
     "name": "stdout",
     "output_type": "stream",
     "text": [
      "Mean Squared Error is: 0.20401948250101404\n"
     ]
    }
   ],
   "source": [
    "mse = (np.square(np.subtract(y, y_pred))).mean()\n",
    "print(\"Mean Squared Error is:\", mse)"
   ]
  },
  {
   "cell_type": "markdown",
   "id": "0f80f0b8",
   "metadata": {},
   "source": [
    "# 11\n",
    "The hypothesis function is stored in 'y_pred'. In this section, we mark the y_pred-x and y-x in one plot scatter which are the predicted CO2EMISSIONS as a function of FUELCONSUMPTION_COMB and the actual available CO2EMISSIONS as a function of FUELCONSUMPTION_COMB, respectively. The y_pred-x plot scatter is in an orange color and the other is in blue. In order to prepare a simple regression model of the given dataset, we calculated the slope and intercept of the line which best fits the data points which is the orange line. Linear regression models are often fitted using the least-squares approach where the goal is to minimize the error. In other words, the average of the distances on the blue lines from the target line must be minimum and that's why this line is closer to the denser line than the second, more spread line. "
   ]
  },
  {
   "cell_type": "code",
   "execution_count": 23,
   "id": "b29726cc",
   "metadata": {},
   "outputs": [
    {
     "data": {
      "text/plain": [
       "Text(0, 0.5, 'CO2EMISSION')"
      ]
     },
     "execution_count": 23,
     "metadata": {},
     "output_type": "execute_result"
    },
    {
     "data": {
      "image/png": "[encoded data removed]",
      "text/plain": [
       "<Figure size 432x288 with 1 Axes>"
      ]
     },
     "metadata": {
      "needs_background": "light"
     },
     "output_type": "display_data"
    }
   ],
   "source": [
    "plt.scatter(x,y)\n",
    "plt.scatter(x, y_pred)\n",
    "plt.xlabel('FUELCONSUMPTION_COMB')\n",
    "plt.ylabel('CO2EMISSION')"
   ]
  },
  {
   "cell_type": "markdown",
   "id": "25b1b5e4",
   "metadata": {},
   "source": [
    "# 12\n",
    "Now after figuring out the hypothesis function in the previous sections, we will use this line to predict the missing CO2EMISSIONS in the missing_df, the dataframe at the end of section 3. This dataframe contains the 103 rows with lost CO2EMISSIONS data. <br>\n",
    "In the following code block we proceed to copy the input and target column in a new dataframe. Then after normalization we predict the CO2EMISSIONS using input column and denormalize the CO2EMISSIONS to get the original value. "
   ]
  },
  {
   "cell_type": "code",
   "execution_count": 25,
   "id": "9fd42c53",
   "metadata": {},
   "outputs": [
    {
     "data": {
      "text/html": [
       "<div>\n",
       "<style scoped>\n",
       "    .dataframe tbody tr th:only-of-type {\n",
       "        vertical-align: middle;\n",
       "    }\n",
       "\n",
       "    .dataframe tbody tr th {\n",
       "        vertical-align: top;\n",
       "    }\n",
       "\n",
       "    .dataframe thead th {\n",
       "        text-align: right;\n",
       "    }\n",
       "</style>\n",
       "<table border=\"1\" class=\"dataframe\">\n",
       "  <thead>\n",
       "    <tr style=\"text-align: right;\">\n",
       "      <th></th>\n",
       "      <th>Unnamed: 0</th>\n",
       "      <th>MODELYEAR</th>\n",
       "      <th>MAKE</th>\n",
       "      <th>MODEL</th>\n",
       "      <th>VEHICLECLASS</th>\n",
       "      <th>ENGINESIZE</th>\n",
       "      <th>CYLINDERS</th>\n",
       "      <th>TRANSMISSION</th>\n",
       "      <th>FUELTYPE</th>\n",
       "      <th>FUELCONSUMPTION_CITY</th>\n",
       "      <th>FUELCONSUMPTION_HWY</th>\n",
       "      <th>FUELCONSUMPTION_COMB</th>\n",
       "      <th>FUELCONSUMPTION_COMB_MPG</th>\n",
       "      <th>CO2EMISSIONS</th>\n",
       "    </tr>\n",
       "  </thead>\n",
       "  <tbody>\n",
       "    <tr>\n",
       "      <th>3</th>\n",
       "      <td>3</td>\n",
       "      <td>2014</td>\n",
       "      <td>ACURA</td>\n",
       "      <td>MDX 4WD</td>\n",
       "      <td>SUV - SMALL</td>\n",
       "      <td>3.5</td>\n",
       "      <td>6.000000</td>\n",
       "      <td>AS6</td>\n",
       "      <td>3.0</td>\n",
       "      <td>12.7</td>\n",
       "      <td>9.1</td>\n",
       "      <td>11.1</td>\n",
       "      <td>25</td>\n",
       "      <td>256.676411</td>\n",
       "    </tr>\n",
       "    <tr>\n",
       "      <th>20</th>\n",
       "      <td>20</td>\n",
       "      <td>2014</td>\n",
       "      <td>AUDI</td>\n",
       "      <td>A4 QUATTRO</td>\n",
       "      <td>COMPACT</td>\n",
       "      <td>2.0</td>\n",
       "      <td>4.000000</td>\n",
       "      <td>AS8</td>\n",
       "      <td>3.0</td>\n",
       "      <td>11.5</td>\n",
       "      <td>8.1</td>\n",
       "      <td>10.0</td>\n",
       "      <td>28</td>\n",
       "      <td>238.182982</td>\n",
       "    </tr>\n",
       "    <tr>\n",
       "      <th>30</th>\n",
       "      <td>30</td>\n",
       "      <td>2014</td>\n",
       "      <td>AUDI</td>\n",
       "      <td>A8</td>\n",
       "      <td>MID-SIZE</td>\n",
       "      <td>3.0</td>\n",
       "      <td>6.000000</td>\n",
       "      <td>AS8</td>\n",
       "      <td>0.0</td>\n",
       "      <td>13.1</td>\n",
       "      <td>8.8</td>\n",
       "      <td>11.2</td>\n",
       "      <td>25</td>\n",
       "      <td>258.357632</td>\n",
       "    </tr>\n",
       "    <tr>\n",
       "      <th>42</th>\n",
       "      <td>42</td>\n",
       "      <td>2014</td>\n",
       "      <td>AUDI</td>\n",
       "      <td>Q7</td>\n",
       "      <td>SUV - STANDARD</td>\n",
       "      <td>3.0</td>\n",
       "      <td>5.797677</td>\n",
       "      <td>AS8</td>\n",
       "      <td>3.0</td>\n",
       "      <td>15.1</td>\n",
       "      <td>10.9</td>\n",
       "      <td>13.2</td>\n",
       "      <td>21</td>\n",
       "      <td>291.982048</td>\n",
       "    </tr>\n",
       "    <tr>\n",
       "      <th>43</th>\n",
       "      <td>43</td>\n",
       "      <td>2014</td>\n",
       "      <td>AUDI</td>\n",
       "      <td>Q7 TDI CLEAN DIESEL</td>\n",
       "      <td>SUV - STANDARD</td>\n",
       "      <td>3.0</td>\n",
       "      <td>6.000000</td>\n",
       "      <td>AS8</td>\n",
       "      <td>2.0</td>\n",
       "      <td>12.9</td>\n",
       "      <td>8.4</td>\n",
       "      <td>10.9</td>\n",
       "      <td>26</td>\n",
       "      <td>253.313970</td>\n",
       "    </tr>\n",
       "    <tr>\n",
       "      <th>...</th>\n",
       "      <td>...</td>\n",
       "      <td>...</td>\n",
       "      <td>...</td>\n",
       "      <td>...</td>\n",
       "      <td>...</td>\n",
       "      <td>...</td>\n",
       "      <td>...</td>\n",
       "      <td>...</td>\n",
       "      <td>...</td>\n",
       "      <td>...</td>\n",
       "      <td>...</td>\n",
       "      <td>...</td>\n",
       "      <td>...</td>\n",
       "      <td>...</td>\n",
       "    </tr>\n",
       "    <tr>\n",
       "      <th>1022</th>\n",
       "      <td>1022</td>\n",
       "      <td>2014</td>\n",
       "      <td>VOLKSWAGEN</td>\n",
       "      <td>BEETLE CONVERTIBLE</td>\n",
       "      <td>SUBCOMPACT</td>\n",
       "      <td>2.0</td>\n",
       "      <td>4.000000</td>\n",
       "      <td>M6</td>\n",
       "      <td>3.0</td>\n",
       "      <td>10.8</td>\n",
       "      <td>7.6</td>\n",
       "      <td>9.4</td>\n",
       "      <td>30</td>\n",
       "      <td>228.095658</td>\n",
       "    </tr>\n",
       "    <tr>\n",
       "      <th>1027</th>\n",
       "      <td>1027</td>\n",
       "      <td>2014</td>\n",
       "      <td>VOLKSWAGEN</td>\n",
       "      <td>CC</td>\n",
       "      <td>COMPACT</td>\n",
       "      <td>2.0</td>\n",
       "      <td>4.000000</td>\n",
       "      <td>M6</td>\n",
       "      <td>3.0</td>\n",
       "      <td>11.6</td>\n",
       "      <td>7.7</td>\n",
       "      <td>9.8</td>\n",
       "      <td>29</td>\n",
       "      <td>234.820541</td>\n",
       "    </tr>\n",
       "    <tr>\n",
       "      <th>1051</th>\n",
       "      <td>1051</td>\n",
       "      <td>2014</td>\n",
       "      <td>VOLKSWAGEN</td>\n",
       "      <td>TIGUAN</td>\n",
       "      <td>SUV - SMALL</td>\n",
       "      <td>2.0</td>\n",
       "      <td>4.000000</td>\n",
       "      <td>A6</td>\n",
       "      <td>3.0</td>\n",
       "      <td>11.7</td>\n",
       "      <td>9.5</td>\n",
       "      <td>10.7</td>\n",
       "      <td>26</td>\n",
       "      <td>249.951528</td>\n",
       "    </tr>\n",
       "    <tr>\n",
       "      <th>1052</th>\n",
       "      <td>1052</td>\n",
       "      <td>2014</td>\n",
       "      <td>VOLKSWAGEN</td>\n",
       "      <td>TIGUAN</td>\n",
       "      <td>SUV - SMALL</td>\n",
       "      <td>2.0</td>\n",
       "      <td>4.000000</td>\n",
       "      <td>M6</td>\n",
       "      <td>3.0</td>\n",
       "      <td>13.6</td>\n",
       "      <td>9.2</td>\n",
       "      <td>11.6</td>\n",
       "      <td>24</td>\n",
       "      <td>265.082515</td>\n",
       "    </tr>\n",
       "    <tr>\n",
       "      <th>1053</th>\n",
       "      <td>1053</td>\n",
       "      <td>2014</td>\n",
       "      <td>VOLKSWAGEN</td>\n",
       "      <td>TIGUAN 4MOTION</td>\n",
       "      <td>SUV - SMALL</td>\n",
       "      <td>2.0</td>\n",
       "      <td>4.000000</td>\n",
       "      <td>A6</td>\n",
       "      <td>3.0</td>\n",
       "      <td>11.7</td>\n",
       "      <td>9.4</td>\n",
       "      <td>10.7</td>\n",
       "      <td>26</td>\n",
       "      <td>249.951528</td>\n",
       "    </tr>\n",
       "  </tbody>\n",
       "</table>\n",
       "<p>103 rows × 14 columns</p>\n",
       "</div>"
      ],
      "text/plain": [
       "      Unnamed: 0  MODELYEAR        MAKE                MODEL    VEHICLECLASS  \\\n",
       "3              3       2014       ACURA              MDX 4WD     SUV - SMALL   \n",
       "20            20       2014        AUDI           A4 QUATTRO         COMPACT   \n",
       "30            30       2014        AUDI                   A8        MID-SIZE   \n",
       "42            42       2014        AUDI                   Q7  SUV - STANDARD   \n",
       "43            43       2014        AUDI  Q7 TDI CLEAN DIESEL  SUV - STANDARD   \n",
       "...          ...        ...         ...                  ...             ...   \n",
       "1022        1022       2014  VOLKSWAGEN   BEETLE CONVERTIBLE      SUBCOMPACT   \n",
       "1027        1027       2014  VOLKSWAGEN                   CC         COMPACT   \n",
       "1051        1051       2014  VOLKSWAGEN               TIGUAN     SUV - SMALL   \n",
       "1052        1052       2014  VOLKSWAGEN               TIGUAN     SUV - SMALL   \n",
       "1053        1053       2014  VOLKSWAGEN       TIGUAN 4MOTION     SUV - SMALL   \n",
       "\n",
       "      ENGINESIZE  CYLINDERS TRANSMISSION  FUELTYPE  FUELCONSUMPTION_CITY  \\\n",
       "3            3.5   6.000000          AS6       3.0                  12.7   \n",
       "20           2.0   4.000000          AS8       3.0                  11.5   \n",
       "30           3.0   6.000000          AS8       0.0                  13.1   \n",
       "42           3.0   5.797677          AS8       3.0                  15.1   \n",
       "43           3.0   6.000000          AS8       2.0                  12.9   \n",
       "...          ...        ...          ...       ...                   ...   \n",
       "1022         2.0   4.000000           M6       3.0                  10.8   \n",
       "1027         2.0   4.000000           M6       3.0                  11.6   \n",
       "1051         2.0   4.000000           A6       3.0                  11.7   \n",
       "1052         2.0   4.000000           M6       3.0                  13.6   \n",
       "1053         2.0   4.000000           A6       3.0                  11.7   \n",
       "\n",
       "      FUELCONSUMPTION_HWY  FUELCONSUMPTION_COMB  FUELCONSUMPTION_COMB_MPG  \\\n",
       "3                     9.1                  11.1                        25   \n",
       "20                    8.1                  10.0                        28   \n",
       "30                    8.8                  11.2                        25   \n",
       "42                   10.9                  13.2                        21   \n",
       "43                    8.4                  10.9                        26   \n",
       "...                   ...                   ...                       ...   \n",
       "1022                  7.6                   9.4                        30   \n",
       "1027                  7.7                   9.8                        29   \n",
       "1051                  9.5                  10.7                        26   \n",
       "1052                  9.2                  11.6                        24   \n",
       "1053                  9.4                  10.7                        26   \n",
       "\n",
       "      CO2EMISSIONS  \n",
       "3       256.676411  \n",
       "20      238.182982  \n",
       "30      258.357632  \n",
       "42      291.982048  \n",
       "43      253.313970  \n",
       "...            ...  \n",
       "1022    228.095658  \n",
       "1027    234.820541  \n",
       "1051    249.951528  \n",
       "1052    265.082515  \n",
       "1053    249.951528  \n",
       "\n",
       "[103 rows x 14 columns]"
      ]
     },
     "execution_count": 25,
     "metadata": {},
     "output_type": "execute_result"
    }
   ],
   "source": [
    "pred = missing_df[[\"FUELCONSUMPTION_COMB\", \"CO2EMISSIONS\"]]\n",
    "pred_norm = (pred - pred.mean()) / pred.std()\n",
    "pred_norm[\"CO2EMISSIONS\"].fillna(pred_norm[\"FUELCONSUMPTION_COMB\"]*b1+b0, inplace=True)\n",
    "out = pred_norm*df.std() + df.mean()\n",
    "missing_df[\"CO2EMISSIONS\"] = out[\"CO2EMISSIONS\"]\n",
    "missing_df"
   ]
  },
  {
   "cell_type": "markdown",
   "id": "d4c318b7",
   "metadata": {},
   "source": [
    "If we get the number of rows with NaN values in all column as below, all the data has been filled."
   ]
  },
  {
   "cell_type": "code",
   "execution_count": 26,
   "id": "63610b4b",
   "metadata": {},
   "outputs": [
    {
     "data": {
      "text/plain": [
       "Unnamed: 0                  0\n",
       "MODELYEAR                   0\n",
       "MAKE                        0\n",
       "MODEL                       0\n",
       "VEHICLECLASS                0\n",
       "ENGINESIZE                  0\n",
       "CYLINDERS                   0\n",
       "TRANSMISSION                0\n",
       "FUELTYPE                    0\n",
       "FUELCONSUMPTION_CITY        0\n",
       "FUELCONSUMPTION_HWY         0\n",
       "FUELCONSUMPTION_COMB        0\n",
       "FUELCONSUMPTION_COMB_MPG    0\n",
       "CO2EMISSIONS                0\n",
       "dtype: int64"
      ]
     },
     "execution_count": 26,
     "metadata": {},
     "output_type": "execute_result"
    }
   ],
   "source": [
    "missing_df.isnull().sum()"
   ]
  },
  {
   "cell_type": "markdown",
   "id": "387cfddb",
   "metadata": {},
   "source": [
    "Now, the only thing left to do is to write the target values and the corresponding index column into a csv file."
   ]
  },
  {
   "cell_type": "code",
   "execution_count": 27,
   "id": "8eed77f4",
   "metadata": {},
   "outputs": [
    {
     "name": "stdout",
     "output_type": "stream",
     "text": [
      "256.74170124481327\n"
     ]
    }
   ],
   "source": [
    "output = missing_df[[\"Unnamed: 0\", \"CO2EMISSIONS\"]]\n",
    "output = output.rename(columns={\"Unnamed: 0\": \"INDEX\"})\n",
    "output.reset_index(drop=True, inplace=True)\n",
    "print(output[\"CO2EMISSIONS\"].mean())\n",
    "print(output[\"CO2EMISSIONS\"].mean())\n",
    "output.to_csv('output.csv')"
   ]
  },
  {
   "cell_type": "markdown",
   "id": "1bd48d75",
   "metadata": {},
   "source": [
    "## Areas of improvement\n",
    "Instead of mean imputation used for filling the NaN cells in section 3, we can use another method called MICE (Multivariate Imputation by Chained Equation). MICE is an imputation method which works by filling the missing data multiple times. Initially, a simple imputation is performed (e.g. mean) to replace the missing data for each variable and we also note their positions in the dataset. Then, we take each feature and predict the missing data with Regression model. The remaining features are used as dependent variables for our Regression model. The process is iterated multiple times which updates the imputation values. The common number of iterations is usually 10, but it depends on the dataset. <br>\n",
    "To improve the prediction accuracy, we can take several correlated features into account instead of only one. Also, we can encode the categorial columns and incorporate them into these computations as well. That way, more factors are being considered. For example, the vehicle's level of CO2 emissions is linked to the amount of fuel consumed and the type of fuel used and since we dropped the categorial columns altogether, a feature like fuel type is disregarded despite its significance. "
   ]
  },
  {
   "cell_type": "markdown",
   "id": "6a863ad9",
   "metadata": {},
   "source": [
    "### References:\n",
    "https://numpy.org <br>\n",
    "https://realpython.com/numpy-array-programming/ <br>\n",
    "https://pbpython.com/categorical-encoding.html <br>\n",
    "https://matplotlib.org/tutorials/introductory/pyplot.html <br>\n",
    "https://www.geeksforgeeks.org/solving-linear-regression-in-python/"
   ]
  }
 ],
 "metadata": {
  "kernelspec": {
   "display_name": "Python 3 (ipykernel)",
   "language": "python",
   "name": "python3"
  },
  "language_info": {
   "codemirror_mode": {
    "name": "ipython",
    "version": 3
   },
   "file_extension": ".py",
   "mimetype": "text/x-python",
   "name": "python",
   "nbconvert_exporter": "python",
   "pygments_lexer": "ipython3",
   "version": "3.9.5"
  }
 },
 "nbformat": 4,
 "nbformat_minor": 5
}
